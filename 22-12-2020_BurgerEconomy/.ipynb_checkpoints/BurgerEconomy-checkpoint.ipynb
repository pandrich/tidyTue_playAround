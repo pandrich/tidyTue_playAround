{
 "cells": [
  {
   "cell_type": "code",
   "execution_count": 10,
   "metadata": {},
   "outputs": [],
   "source": [
    "import numpy as np\n",
    "import pandas as pd\n",
    "import matplotlib.pyplot as plt\n",
    "import seaborn as sns\n",
    "import plotly.express as px\n",
    "import pycountry_convert as pc\n",
    "\n",
    "%matplotlib inline"
   ]
  },
  {
   "cell_type": "code",
   "execution_count": 11,
   "metadata": {},
   "outputs": [],
   "source": [
    "df = pd.read_csv('https://raw.githubusercontent.com/rfordatascience/tidytuesday/master/data/2020/2020-12-22/big-mac.csv')"
   ]
  },
  {
   "cell_type": "code",
   "execution_count": 12,
   "metadata": {},
   "outputs": [],
   "source": [
    "df['date'] = pd.to_datetime(df['date'],format='%Y-%m-%d')"
   ]
  },
  {
   "cell_type": "code",
   "execution_count": 13,
   "metadata": {},
   "outputs": [],
   "source": [
    "df = df.dropna()"
   ]
  },
  {
   "cell_type": "code",
   "execution_count": 23,
   "metadata": {},
   "outputs": [],
   "source": [
    "continent_dict = {\n",
    "    'EU':'Europe',\n",
    "    'SA':'South America',\n",
    "    'OC':'Oceania',\n",
    "    'NA':'North America',\n",
    "    'AF':'Africa',\n",
    "    'AS':'Asia'    \n",
    "}"
   ]
  },
  {
   "cell_type": "code",
   "execution_count": 27,
   "metadata": {},
   "outputs": [],
   "source": [
    "def perc_null(df):\n",
    "    \n",
    "    cols = df.columns\n",
    "    row_format = '{:20}''{:10}'\n",
    "    \n",
    "    for col in cols: \n",
    "        \n",
    "        ratio = df[col].isnull().sum()/df.shape[0]\n",
    "        print(row_format.format(col,format(ratio,'.2%')))   \n",
    "        \n",
    "def create_continent_column(iso_a3):\n",
    "    \n",
    "    if iso_a3 == 'EUZ':\n",
    "        return 'EU'\n",
    "    else:\n",
    "        iso_a2 = pc.country_alpha3_to_country_alpha2(iso_a3)\n",
    "        return pc.country_alpha2_to_continent_code(iso_a2)"
   ]
  },
  {
   "cell_type": "code",
   "execution_count": 28,
   "metadata": {},
   "outputs": [],
   "source": [
    "df['Continent'] = df['iso_a3'].apply(create_continent_column)\n",
    "df['Continent'] = df['Continent'].map(continent_dict)"
   ]
  },
  {
   "cell_type": "code",
   "execution_count": 153,
   "metadata": {},
   "outputs": [],
   "source": [
    "def plot_currency_imbalance_year(df,ref_currency,year):\n",
    "    \n",
    "    curr_col = ref_currency + '_adjusted'    \n",
    "    df_year = df[(df['date'].dt.year==year)&(df['date'].dt.month>6)]\n",
    "    \n",
    "    plt.scatter(df_year[df_year[curr_col]>0]['dollar_ex'],\n",
    "                df_year[df_year[curr_col]>0][curr_col],\n",
    "                marker='o',\n",
    "                s=100*(df_year[df_year[curr_col]>0]['gdp_dollar']/\\\n",
    "                      df[df['name']=='United States']['gdp_dollar'].iloc[-1]),\n",
    "                alpha=0.6,\n",
    "                color='green')\n",
    "    plt.scatter(df_year[df_year[curr_col]<0]['dollar_ex'],\n",
    "                df_year[df_year[curr_col]<0][curr_col],\n",
    "                marker='o',\n",
    "                s=100*(df_year[df_year[curr_col]<0]['gdp_dollar']/\\\n",
    "                      df[df['name']=='United States']['gdp_dollar'].iloc[-1]),\n",
    "                alpha=0.6,\n",
    "                color='red')\n",
    "    plt.xlim([0,100])\n",
    "    \n",
    "    \n",
    "def plot_currency_imbalance_year_plotly(df,ref_currency,year):\n",
    "    \n",
    "    curr_col = ref_currency + '_adjusted'    \n",
    "    df_year = df[(df['date'].dt.year==year)&(df['date'].dt.month>6)]\n",
    "    fig = px.scatter(df_year,\n",
    "                     x='dollar_ex',\n",
    "                     y= 100*df_year[curr_col],\n",
    "                     size='gdp_dollar',               \n",
    "                     hover_name='name',\n",
    "                     hover_data={'name':False,\n",
    "                                 'Continent':False,\n",
    "                                 'dollar_ex':False,\n",
    "                                 'gdp_dollar':':.0f'\n",
    "                                 \n",
    "                                },\n",
    "                     text='name',\n",
    "                     color='Continent',\n",
    "                     log_x=True,\n",
    "                     size_max=60,                \n",
    ")\n",
    "\n",
    "    fig.update_xaxes(title_text='Local currency units per dollar',\n",
    "                     title_font={'size':18},\n",
    "                     tickvals=[1,10,100,1000,10000],\n",
    "                     tickfont=dict(size=16))\n",
    "    fig.update_yaxes(title_text='Adjusted index, relative to {}'.format(ref_currency.upper()+' (%)'),\n",
    "                     title_font={'size':18},\n",
    "                     tickfont=dict(size=16))\n",
    "    fig.update_layout(\n",
    "        height=600,\n",
    "        width=900,        \n",
    "        title_text='Burger price difference from '+ref_currency.upper()+' %, '+str(year),\n",
    "        title_font={'size':24},\n",
    "        hoverlabel=dict(bgcolor='white')\n",
    "    )\n",
    "    \n",
    "    \n",
    "    fig.show()\n",
    "    \n",
    "    \n",
    "def plot_currency_imbalance_country_plotly(df,ref_currency,countries):\n",
    "    \n",
    "    curr_col = ref_currency + '_adjusted'    \n",
    "    df_country = df[df['name'].isin(countries)]\n",
    "    fig = px.line(df_country,\n",
    "                  x='date',\n",
    "                  y= 100*df_country[curr_col],                      \n",
    "                  color='name',\n",
    "                  hover_data={'name':False}\n",
    ")\n",
    "\n",
    "    fig.update_traces(mode=\"markers+lines\",\n",
    "                     hovertemplate='Burger price offset: %{y}%<extra></extra>')\n",
    "    fig.update_xaxes(title_text='Year',\n",
    "                     title_font={'size':18},\n",
    "                     tickfont=dict(size=16))\n",
    "    fig.update_yaxes(title_text='Adjusted index, relative to {}'.format(ref_currency.upper()+' (%)'),\n",
    "                     title_font={'size':18},\n",
    "                     tickfont=dict(size=16))\n",
    "    fig.update_layout(\n",
    "        height=600,\n",
    "        width=900,        \n",
    "        title_text='Burger price difference from '+ref_currency.upper()+' %',\n",
    "        title_font={'size':24},\n",
    "        hoverlabel=dict(\n",
    "            bgcolor='white'\n",
    "        )\n",
    "    )\n",
    "    \n",
    "    \n",
    "    fig.show()\n",
    "    \n",
    "    \n",
    "def plot_currency_imbalance_country(df,ref_currency,country):\n",
    "    \n",
    "    curr_col = ref_currency + '_adjusted'    \n",
    "    df_country = df[df['name']==country]\n",
    "    plt.scatter(df_country[df_country[curr_col]>0]['date'],\n",
    "                df_country[df_country[curr_col]>0][curr_col]*100,\n",
    "                marker='o',\n",
    "                s=100*(df_country[df_country[curr_col]>0]['gdp_dollar']/\\\n",
    "                      df[df['name']=='United States']['gdp_dollar'].iloc[-1]),\n",
    "                color='green',\n",
    "                alpha=0.6\n",
    "               )\n",
    "    plt.scatter(df_country[df_country[curr_col]<0]['date'],\n",
    "                df_country[df_country[curr_col]<0][curr_col]*100,\n",
    "                marker='o',\n",
    "                s=100*(df_country[df_country[curr_col]<0]['gdp_dollar']/\\\n",
    "                      df[df['name']=='United States']['gdp_dollar'].iloc[-1]),\n",
    "                color='red',\n",
    "                alpha=0.6\n",
    "               )\n",
    "    plt.title('Burger price imbalance: {}'.format(country),fontsize=16)\n",
    "    plt.xlabel('Year',fontsize=14)\n",
    "    plt.ylabel('Price difference from '+ref_currency.upper()+' %',fontsize=14)"
   ]
  },
  {
   "cell_type": "code",
   "execution_count": 154,
   "metadata": {
    "scrolled": false
   },
   "outputs": [
    {
     "data": {
      "application/vnd.plotly.v1+json": {
       "config": {
        "plotlyServerURL": "https://plot.ly"
       },
       "data": [
        {
         "customdata": [
          [
           "Argentina",
           "South America",
           4.1325,
           9138.177
          ],
          [
           "Brazil",
           "South America",
           1.5416,
           10816.487
          ],
          [
           "Chile",
           "South America",
           462.75,
           11827.958
          ],
          [
           "Colombia",
           "South America",
           1770.5,
           6273.371999999999
          ],
          [
           "Peru",
           "South America",
           2.7375,
           5171.651
          ]
         ],
         "hovertemplate": "<b>%{hovertext}</b><br><br>y=%{y}<br>gdp_dollar=%{customdata[3]:.0f}<extra></extra>",
         "hovertext": [
          "Argentina",
          "Brazil",
          "Chile",
          "Colombia",
          "Peru"
         ],
         "legendgroup": "South America",
         "marker": {
          "color": "#636efa",
          "size": [
           9138.177,
           10816.487,
           11827.958,
           6273.371999999999,
           5171.651
          ],
          "sizemode": "area",
          "sizeref": 23.456565,
          "symbol": "circle"
         },
         "mode": "markers+text",
         "name": "South America",
         "orientation": "v",
         "showlegend": true,
         "text": [
          "Argentina",
          "Brazil",
          "Chile",
          "Colombia",
          "Peru"
         ],
         "type": "scatter",
         "x": [
          4.1325,
          1.5416,
          462.75,
          1770.5,
          2.7375
         ],
         "xaxis": "x",
         "y": [
          94.6,
          140.5,
          53.29999999999999,
          101.2,
          58.20000000000001
         ],
         "yaxis": "y"
        },
        {
         "customdata": [
          [
           "Australia",
           "Oceania",
           0.9223815890000001,
           55589.549000000006
          ],
          [
           "New Zealand",
           "Oceania",
           1.1560693640000002,
           32145.232999999997
          ]
         ],
         "hovertemplate": "<b>%{hovertext}</b><br><br>y=%{y}<br>gdp_dollar=%{customdata[3]:.0f}<extra></extra>",
         "hovertext": [
          "Australia",
          "New Zealand"
         ],
         "legendgroup": "Oceania",
         "marker": {
          "color": "#EF553B",
          "size": [
           55589.549000000006,
           32145.232999999997
          ],
          "sizemode": "area",
          "sizeref": 23.456565,
          "symbol": "circle"
         },
         "mode": "markers+text",
         "name": "Oceania",
         "orientation": "v",
         "showlegend": true,
         "text": [
          "Australia",
          "New Zealand"
         ],
         "type": "scatter",
         "x": [
          0.9223815890000001,
          1.1560693640000002
         ],
         "xaxis": "x",
         "y": [
          8.1,
          25.3
         ],
         "yaxis": "y"
        },
        {
         "customdata": [
          [
           "Canada",
           "North America",
           0.94585,
           46214.914000000004
          ],
          [
           "Mexico",
           "North America",
           11.67075,
           9565.962
          ],
          [
           "United States",
           "North America",
           1,
           47283.633
          ]
         ],
         "hovertemplate": "<b>%{hovertext}</b><br><br>y=%{y}<br>gdp_dollar=%{customdata[3]:.0f}<extra></extra>",
         "hovertext": [
          "Canada",
          "Mexico",
          "United States"
         ],
         "legendgroup": "North America",
         "marker": {
          "color": "#00cc96",
          "size": [
           46214.914000000004,
           9565.962,
           47283.633
          ],
          "sizemode": "area",
          "sizeref": 23.456565,
          "symbol": "circle"
         },
         "mode": "markers+text",
         "name": "North America",
         "orientation": "v",
         "showlegend": true,
         "text": [
          "Canada",
          "Mexico",
          "United States"
         ],
         "type": "scatter",
         "x": [
          0.94585,
          11.67075,
          1
         ],
         "xaxis": "x",
         "y": [
          20.4,
          9.4,
          -3.2
         ],
         "yaxis": "y"
        },
        {
         "customdata": [
          [
           "Switzerland",
           "Europe",
           0.80615,
           67245.997
          ],
          [
           "Czech Republic",
           "Europe",
           17.0219,
           18288.284
          ],
          [
           "Denmark",
           "Europe",
           5.19845,
           56147.143
          ],
          [
           "Euro area",
           "Europe",
           0.697520315,
           36947
          ],
          [
           "Britain",
           "Europe",
           0.614137444,
           36119.846
          ],
          [
           "Hungary",
           "Europe",
           188.0724,
           12879.296
          ],
          [
           "Norway",
           "Europe",
           5.41405,
           84443.634
          ],
          [
           "Poland",
           "Europe",
           2.7968,
           12300.126
          ],
          [
           "Russia",
           "Europe",
           27.7525,
           10437.49
          ],
          [
           "Sweden",
           "Europe",
           6.3352,
           48874.608
          ]
         ],
         "hovertemplate": "<b>%{hovertext}</b><br><br>y=%{y}<br>gdp_dollar=%{customdata[3]:.0f}<extra></extra>",
         "hovertext": [
          "Switzerland",
          "Czech Republic",
          "Denmark",
          "Euro area",
          "Britain",
          "Hungary",
          "Norway",
          "Poland",
          "Russia",
          "Sweden"
         ],
         "legendgroup": "Europe",
         "marker": {
          "color": "#ab63fa",
          "size": [
           67245.997,
           18288.284,
           56147.143,
           36947,
           36119.846,
           12879.296,
           84443.634,
           12300.126,
           10437.49,
           48874.608
          ],
          "sizemode": "area",
          "sizeref": 23.456565,
          "symbol": "circle"
         },
         "mode": "markers+text",
         "name": "Europe",
         "orientation": "v",
         "showlegend": true,
         "text": [
          "Switzerland",
          "Czech Republic",
          "Denmark",
          "Euro area",
          "Britain",
          "Hungary",
          "Norway",
          "Poland",
          "Russia",
          "Sweden"
         ],
         "type": "scatter",
         "x": [
          0.80615,
          17.0219,
          5.19845,
          0.697520315,
          0.614137444,
          188.0724,
          5.41405,
          2.7968,
          27.7525,
          6.3352
         ],
         "xaxis": "x",
         "y": [
          58.20000000000001,
          40.5,
          19.2,
          31.900000000000002,
          5.2,
          52.2,
          41.6,
          17.4,
          6.2,
          78.9
         ],
         "yaxis": "y"
        },
        {
         "customdata": [
          [
           "China",
           "Asia",
           6.445,
           4382.1359999999995
          ],
          [
           "Hong Kong",
           "Asia",
           7.7918,
           31590.681
          ],
          [
           "Indonesia",
           "Asia",
           8523,
           3015.3740000000003
          ],
          [
           "India",
           "Asia",
           44.4,
           1264.839
          ],
          [
           "Israel",
           "Asia",
           3.40335,
           28685.616
          ],
          [
           "Japan",
           "Asia",
           78.365,
           42820.392
          ],
          [
           "South Korea",
           "Asia",
           1056.2,
           20590.962
          ],
          [
           "Malaysia",
           "Asia",
           2.9730000000000003,
           8423.176
          ],
          [
           "Pakistan",
           "Asia",
           86.345,
           1049.749
          ],
          [
           "Philippines",
           "Asia",
           42.41,
           2007.362
          ],
          [
           "Saudi Arabia",
           "Asia",
           3.7502,
           16995.78
          ],
          [
           "Singapore",
           "Asia",
           1.20705,
           43116.689000000006
          ],
          [
           "Thailand",
           "Asia",
           29.75,
           4991.525
          ],
          [
           "Turkey",
           "Asia",
           1.72285,
           10398.685
          ],
          [
           "Taiwan",
           "Asia",
           28.834,
           18457.752
          ]
         ],
         "hovertemplate": "<b>%{hovertext}</b><br><br>y=%{y}<br>gdp_dollar=%{customdata[3]:.0f}<extra></extra>",
         "hovertext": [
          "China",
          "Hong Kong",
          "Indonesia",
          "India",
          "Israel",
          "Japan",
          "South Korea",
          "Malaysia",
          "Pakistan",
          "Philippines",
          "Saudi Arabia",
          "Singapore",
          "Thailand",
          "Turkey",
          "Taiwan"
         ],
         "legendgroup": "Asia",
         "marker": {
          "color": "#FFA15A",
          "size": [
           4382.1359999999995,
           31590.681,
           3015.3740000000003,
           1264.839,
           28685.616,
           42820.392,
           20590.962,
           8423.176,
           1049.749,
           2007.362,
           16995.78,
           43116.689000000006,
           4991.525,
           10398.685,
           18457.752
          ],
          "sizemode": "area",
          "sizeref": 23.456565,
          "symbol": "circle"
         },
         "mode": "markers+text",
         "name": "Asia",
         "orientation": "v",
         "showlegend": true,
         "text": [
          "China",
          "Hong Kong",
          "Indonesia",
          "India",
          "Israel",
          "Japan",
          "South Korea",
          "Malaysia",
          "Pakistan",
          "Philippines",
          "Saudi Arabia",
          "Singapore",
          "Thailand",
          "Turkey",
          "Taiwan"
         ],
         "type": "scatter",
         "x": [
          6.445,
          7.7918,
          8523,
          44.4,
          3.40335,
          78.365,
          1056.2,
          2.9730000000000003,
          86.345,
          42.41,
          3.7502,
          1.20705,
          29.75,
          1.72285,
          28.834
         ],
         "xaxis": "x",
         "y": [
          0,
          -44.6,
          19.5,
          -11.3,
          38.8,
          2.1,
          16.7,
          -1.3,
          11.9,
          28.4,
          -6.1,
          -9,
          2.3,
          48.3,
          -10.5
         ],
         "yaxis": "y"
        },
        {
         "customdata": [
          [
           "Egypt",
           "Africa",
           5.962000000000001,
           2788.829
          ],
          [
           "South Africa",
           "Africa",
           6.76885,
           7157.8009999999995
          ]
         ],
         "hovertemplate": "<b>%{hovertext}</b><br><br>y=%{y}<br>gdp_dollar=%{customdata[3]:.0f}<extra></extra>",
         "hovertext": [
          "Egypt",
          "South Africa"
         ],
         "legendgroup": "Africa",
         "marker": {
          "color": "#19d3f3",
          "size": [
           2788.829,
           7157.8009999999995
          ],
          "sizemode": "area",
          "sizeref": 23.456565,
          "symbol": "circle"
         },
         "mode": "markers+text",
         "name": "Africa",
         "orientation": "v",
         "showlegend": true,
         "text": [
          "Egypt",
          "South Africa"
         ],
         "type": "scatter",
         "x": [
          5.962000000000001,
          6.76885
         ],
         "xaxis": "x",
         "y": [
          7.3,
          19.8
         ],
         "yaxis": "y"
        }
       ],
       "layout": {
        "height": 600,
        "hoverlabel": {
         "bgcolor": "white"
        },
        "legend": {
         "itemsizing": "constant",
         "title": {
          "text": "Continent"
         },
         "tracegroupgap": 0
        },
        "margin": {
         "t": 60
        },
        "template": {
         "data": {
          "bar": [
           {
            "error_x": {
             "color": "#2a3f5f"
            },
            "error_y": {
             "color": "#2a3f5f"
            },
            "marker": {
             "line": {
              "color": "#E5ECF6",
              "width": 0.5
             }
            },
            "type": "bar"
           }
          ],
          "barpolar": [
           {
            "marker": {
             "line": {
              "color": "#E5ECF6",
              "width": 0.5
             }
            },
            "type": "barpolar"
           }
          ],
          "carpet": [
           {
            "aaxis": {
             "endlinecolor": "#2a3f5f",
             "gridcolor": "white",
             "linecolor": "white",
             "minorgridcolor": "white",
             "startlinecolor": "#2a3f5f"
            },
            "baxis": {
             "endlinecolor": "#2a3f5f",
             "gridcolor": "white",
             "linecolor": "white",
             "minorgridcolor": "white",
             "startlinecolor": "#2a3f5f"
            },
            "type": "carpet"
           }
          ],
          "choropleth": [
           {
            "colorbar": {
             "outlinewidth": 0,
             "ticks": ""
            },
            "type": "choropleth"
           }
          ],
          "contour": [
           {
            "colorbar": {
             "outlinewidth": 0,
             "ticks": ""
            },
            "colorscale": [
             [
              0,
              "#0d0887"
             ],
             [
              0.1111111111111111,
              "#46039f"
             ],
             [
              0.2222222222222222,
              "#7201a8"
             ],
             [
              0.3333333333333333,
              "#9c179e"
             ],
             [
              0.4444444444444444,
              "#bd3786"
             ],
             [
              0.5555555555555556,
              "#d8576b"
             ],
             [
              0.6666666666666666,
              "#ed7953"
             ],
             [
              0.7777777777777778,
              "#fb9f3a"
             ],
             [
              0.8888888888888888,
              "#fdca26"
             ],
             [
              1,
              "#f0f921"
             ]
            ],
            "type": "contour"
           }
          ],
          "contourcarpet": [
           {
            "colorbar": {
             "outlinewidth": 0,
             "ticks": ""
            },
            "type": "contourcarpet"
           }
          ],
          "heatmap": [
           {
            "colorbar": {
             "outlinewidth": 0,
             "ticks": ""
            },
            "colorscale": [
             [
              0,
              "#0d0887"
             ],
             [
              0.1111111111111111,
              "#46039f"
             ],
             [
              0.2222222222222222,
              "#7201a8"
             ],
             [
              0.3333333333333333,
              "#9c179e"
             ],
             [
              0.4444444444444444,
              "#bd3786"
             ],
             [
              0.5555555555555556,
              "#d8576b"
             ],
             [
              0.6666666666666666,
              "#ed7953"
             ],
             [
              0.7777777777777778,
              "#fb9f3a"
             ],
             [
              0.8888888888888888,
              "#fdca26"
             ],
             [
              1,
              "#f0f921"
             ]
            ],
            "type": "heatmap"
           }
          ],
          "heatmapgl": [
           {
            "colorbar": {
             "outlinewidth": 0,
             "ticks": ""
            },
            "colorscale": [
             [
              0,
              "#0d0887"
             ],
             [
              0.1111111111111111,
              "#46039f"
             ],
             [
              0.2222222222222222,
              "#7201a8"
             ],
             [
              0.3333333333333333,
              "#9c179e"
             ],
             [
              0.4444444444444444,
              "#bd3786"
             ],
             [
              0.5555555555555556,
              "#d8576b"
             ],
             [
              0.6666666666666666,
              "#ed7953"
             ],
             [
              0.7777777777777778,
              "#fb9f3a"
             ],
             [
              0.8888888888888888,
              "#fdca26"
             ],
             [
              1,
              "#f0f921"
             ]
            ],
            "type": "heatmapgl"
           }
          ],
          "histogram": [
           {
            "marker": {
             "colorbar": {
              "outlinewidth": 0,
              "ticks": ""
             }
            },
            "type": "histogram"
           }
          ],
          "histogram2d": [
           {
            "colorbar": {
             "outlinewidth": 0,
             "ticks": ""
            },
            "colorscale": [
             [
              0,
              "#0d0887"
             ],
             [
              0.1111111111111111,
              "#46039f"
             ],
             [
              0.2222222222222222,
              "#7201a8"
             ],
             [
              0.3333333333333333,
              "#9c179e"
             ],
             [
              0.4444444444444444,
              "#bd3786"
             ],
             [
              0.5555555555555556,
              "#d8576b"
             ],
             [
              0.6666666666666666,
              "#ed7953"
             ],
             [
              0.7777777777777778,
              "#fb9f3a"
             ],
             [
              0.8888888888888888,
              "#fdca26"
             ],
             [
              1,
              "#f0f921"
             ]
            ],
            "type": "histogram2d"
           }
          ],
          "histogram2dcontour": [
           {
            "colorbar": {
             "outlinewidth": 0,
             "ticks": ""
            },
            "colorscale": [
             [
              0,
              "#0d0887"
             ],
             [
              0.1111111111111111,
              "#46039f"
             ],
             [
              0.2222222222222222,
              "#7201a8"
             ],
             [
              0.3333333333333333,
              "#9c179e"
             ],
             [
              0.4444444444444444,
              "#bd3786"
             ],
             [
              0.5555555555555556,
              "#d8576b"
             ],
             [
              0.6666666666666666,
              "#ed7953"
             ],
             [
              0.7777777777777778,
              "#fb9f3a"
             ],
             [
              0.8888888888888888,
              "#fdca26"
             ],
             [
              1,
              "#f0f921"
             ]
            ],
            "type": "histogram2dcontour"
           }
          ],
          "mesh3d": [
           {
            "colorbar": {
             "outlinewidth": 0,
             "ticks": ""
            },
            "type": "mesh3d"
           }
          ],
          "parcoords": [
           {
            "line": {
             "colorbar": {
              "outlinewidth": 0,
              "ticks": ""
             }
            },
            "type": "parcoords"
           }
          ],
          "pie": [
           {
            "automargin": true,
            "type": "pie"
           }
          ],
          "scatter": [
           {
            "marker": {
             "colorbar": {
              "outlinewidth": 0,
              "ticks": ""
             }
            },
            "type": "scatter"
           }
          ],
          "scatter3d": [
           {
            "line": {
             "colorbar": {
              "outlinewidth": 0,
              "ticks": ""
             }
            },
            "marker": {
             "colorbar": {
              "outlinewidth": 0,
              "ticks": ""
             }
            },
            "type": "scatter3d"
           }
          ],
          "scattercarpet": [
           {
            "marker": {
             "colorbar": {
              "outlinewidth": 0,
              "ticks": ""
             }
            },
            "type": "scattercarpet"
           }
          ],
          "scattergeo": [
           {
            "marker": {
             "colorbar": {
              "outlinewidth": 0,
              "ticks": ""
             }
            },
            "type": "scattergeo"
           }
          ],
          "scattergl": [
           {
            "marker": {
             "colorbar": {
              "outlinewidth": 0,
              "ticks": ""
             }
            },
            "type": "scattergl"
           }
          ],
          "scattermapbox": [
           {
            "marker": {
             "colorbar": {
              "outlinewidth": 0,
              "ticks": ""
             }
            },
            "type": "scattermapbox"
           }
          ],
          "scatterpolar": [
           {
            "marker": {
             "colorbar": {
              "outlinewidth": 0,
              "ticks": ""
             }
            },
            "type": "scatterpolar"
           }
          ],
          "scatterpolargl": [
           {
            "marker": {
             "colorbar": {
              "outlinewidth": 0,
              "ticks": ""
             }
            },
            "type": "scatterpolargl"
           }
          ],
          "scatterternary": [
           {
            "marker": {
             "colorbar": {
              "outlinewidth": 0,
              "ticks": ""
             }
            },
            "type": "scatterternary"
           }
          ],
          "surface": [
           {
            "colorbar": {
             "outlinewidth": 0,
             "ticks": ""
            },
            "colorscale": [
             [
              0,
              "#0d0887"
             ],
             [
              0.1111111111111111,
              "#46039f"
             ],
             [
              0.2222222222222222,
              "#7201a8"
             ],
             [
              0.3333333333333333,
              "#9c179e"
             ],
             [
              0.4444444444444444,
              "#bd3786"
             ],
             [
              0.5555555555555556,
              "#d8576b"
             ],
             [
              0.6666666666666666,
              "#ed7953"
             ],
             [
              0.7777777777777778,
              "#fb9f3a"
             ],
             [
              0.8888888888888888,
              "#fdca26"
             ],
             [
              1,
              "#f0f921"
             ]
            ],
            "type": "surface"
           }
          ],
          "table": [
           {
            "cells": {
             "fill": {
              "color": "#EBF0F8"
             },
             "line": {
              "color": "white"
             }
            },
            "header": {
             "fill": {
              "color": "#C8D4E3"
             },
             "line": {
              "color": "white"
             }
            },
            "type": "table"
           }
          ]
         },
         "layout": {
          "annotationdefaults": {
           "arrowcolor": "#2a3f5f",
           "arrowhead": 0,
           "arrowwidth": 1
          },
          "coloraxis": {
           "colorbar": {
            "outlinewidth": 0,
            "ticks": ""
           }
          },
          "colorscale": {
           "diverging": [
            [
             0,
             "#8e0152"
            ],
            [
             0.1,
             "#c51b7d"
            ],
            [
             0.2,
             "#de77ae"
            ],
            [
             0.3,
             "#f1b6da"
            ],
            [
             0.4,
             "#fde0ef"
            ],
            [
             0.5,
             "#f7f7f7"
            ],
            [
             0.6,
             "#e6f5d0"
            ],
            [
             0.7,
             "#b8e186"
            ],
            [
             0.8,
             "#7fbc41"
            ],
            [
             0.9,
             "#4d9221"
            ],
            [
             1,
             "#276419"
            ]
           ],
           "sequential": [
            [
             0,
             "#0d0887"
            ],
            [
             0.1111111111111111,
             "#46039f"
            ],
            [
             0.2222222222222222,
             "#7201a8"
            ],
            [
             0.3333333333333333,
             "#9c179e"
            ],
            [
             0.4444444444444444,
             "#bd3786"
            ],
            [
             0.5555555555555556,
             "#d8576b"
            ],
            [
             0.6666666666666666,
             "#ed7953"
            ],
            [
             0.7777777777777778,
             "#fb9f3a"
            ],
            [
             0.8888888888888888,
             "#fdca26"
            ],
            [
             1,
             "#f0f921"
            ]
           ],
           "sequentialminus": [
            [
             0,
             "#0d0887"
            ],
            [
             0.1111111111111111,
             "#46039f"
            ],
            [
             0.2222222222222222,
             "#7201a8"
            ],
            [
             0.3333333333333333,
             "#9c179e"
            ],
            [
             0.4444444444444444,
             "#bd3786"
            ],
            [
             0.5555555555555556,
             "#d8576b"
            ],
            [
             0.6666666666666666,
             "#ed7953"
            ],
            [
             0.7777777777777778,
             "#fb9f3a"
            ],
            [
             0.8888888888888888,
             "#fdca26"
            ],
            [
             1,
             "#f0f921"
            ]
           ]
          },
          "colorway": [
           "#636efa",
           "#EF553B",
           "#00cc96",
           "#ab63fa",
           "#FFA15A",
           "#19d3f3",
           "#FF6692",
           "#B6E880",
           "#FF97FF",
           "#FECB52"
          ],
          "font": {
           "color": "#2a3f5f"
          },
          "geo": {
           "bgcolor": "white",
           "lakecolor": "white",
           "landcolor": "#E5ECF6",
           "showlakes": true,
           "showland": true,
           "subunitcolor": "white"
          },
          "hoverlabel": {
           "align": "left"
          },
          "hovermode": "closest",
          "mapbox": {
           "style": "light"
          },
          "paper_bgcolor": "white",
          "plot_bgcolor": "#E5ECF6",
          "polar": {
           "angularaxis": {
            "gridcolor": "white",
            "linecolor": "white",
            "ticks": ""
           },
           "bgcolor": "#E5ECF6",
           "radialaxis": {
            "gridcolor": "white",
            "linecolor": "white",
            "ticks": ""
           }
          },
          "scene": {
           "xaxis": {
            "backgroundcolor": "#E5ECF6",
            "gridcolor": "white",
            "gridwidth": 2,
            "linecolor": "white",
            "showbackground": true,
            "ticks": "",
            "zerolinecolor": "white"
           },
           "yaxis": {
            "backgroundcolor": "#E5ECF6",
            "gridcolor": "white",
            "gridwidth": 2,
            "linecolor": "white",
            "showbackground": true,
            "ticks": "",
            "zerolinecolor": "white"
           },
           "zaxis": {
            "backgroundcolor": "#E5ECF6",
            "gridcolor": "white",
            "gridwidth": 2,
            "linecolor": "white",
            "showbackground": true,
            "ticks": "",
            "zerolinecolor": "white"
           }
          },
          "shapedefaults": {
           "line": {
            "color": "#2a3f5f"
           }
          },
          "ternary": {
           "aaxis": {
            "gridcolor": "white",
            "linecolor": "white",
            "ticks": ""
           },
           "baxis": {
            "gridcolor": "white",
            "linecolor": "white",
            "ticks": ""
           },
           "bgcolor": "#E5ECF6",
           "caxis": {
            "gridcolor": "white",
            "linecolor": "white",
            "ticks": ""
           }
          },
          "title": {
           "x": 0.05
          },
          "xaxis": {
           "automargin": true,
           "gridcolor": "white",
           "linecolor": "white",
           "ticks": "",
           "title": {
            "standoff": 15
           },
           "zerolinecolor": "white",
           "zerolinewidth": 2
          },
          "yaxis": {
           "automargin": true,
           "gridcolor": "white",
           "linecolor": "white",
           "ticks": "",
           "title": {
            "standoff": 15
           },
           "zerolinecolor": "white",
           "zerolinewidth": 2
          }
         }
        },
        "title": {
         "font": {
          "size": 24
         },
         "text": "Burger price difference from CNY %, 2011"
        },
        "width": 900,
        "xaxis": {
         "anchor": "y",
         "domain": [
          0,
          1
         ],
         "tickfont": {
          "size": 16
         },
         "tickvals": [
          1,
          10,
          100,
          1000,
          10000
         ],
         "title": {
          "font": {
           "size": 18
          },
          "text": "Local currency units per dollar"
         },
         "type": "log"
        },
        "yaxis": {
         "anchor": "x",
         "domain": [
          0,
          1
         ],
         "tickfont": {
          "size": 16
         },
         "title": {
          "font": {
           "size": 18
          },
          "text": "Adjusted index, relative to CNY (%)"
         }
        }
       }
      },
      "text/html": [
       "<div>\n",
       "        \n",
       "        \n",
       "            <div id=\"08fff50e-20a3-4790-988a-ef3501b77232\" class=\"plotly-graph-div\" style=\"height:600px; width:900px;\"></div>\n",
       "            <script type=\"text/javascript\">\n",
       "                require([\"plotly\"], function(Plotly) {\n",
       "                    window.PLOTLYENV=window.PLOTLYENV || {};\n",
       "                    \n",
       "                if (document.getElementById(\"08fff50e-20a3-4790-988a-ef3501b77232\")) {\n",
       "                    Plotly.newPlot(\n",
       "                        '08fff50e-20a3-4790-988a-ef3501b77232',\n",
       "                        [{\"customdata\": [[\"Argentina\", \"South America\", 4.1325, 9138.177], [\"Brazil\", \"South America\", 1.5416, 10816.487], [\"Chile\", \"South America\", 462.75, 11827.958], [\"Colombia\", \"South America\", 1770.5, 6273.371999999999], [\"Peru\", \"South America\", 2.7375, 5171.651]], \"hovertemplate\": \"<b>%{hovertext}</b><br><br>y=%{y}<br>gdp_dollar=%{customdata[3]:.0f}<extra></extra>\", \"hovertext\": [\"Argentina\", \"Brazil\", \"Chile\", \"Colombia\", \"Peru\"], \"legendgroup\": \"South America\", \"marker\": {\"color\": \"#636efa\", \"size\": [9138.177, 10816.487, 11827.958, 6273.371999999999, 5171.651], \"sizemode\": \"area\", \"sizeref\": 23.456565, \"symbol\": \"circle\"}, \"mode\": \"markers+text\", \"name\": \"South America\", \"orientation\": \"v\", \"showlegend\": true, \"text\": [\"Argentina\", \"Brazil\", \"Chile\", \"Colombia\", \"Peru\"], \"type\": \"scatter\", \"x\": [4.1325, 1.5416, 462.75, 1770.5, 2.7375], \"xaxis\": \"x\", \"y\": [94.6, 140.5, 53.29999999999999, 101.2, 58.20000000000001], \"yaxis\": \"y\"}, {\"customdata\": [[\"Australia\", \"Oceania\", 0.9223815890000001, 55589.549000000006], [\"New Zealand\", \"Oceania\", 1.1560693640000002, 32145.232999999997]], \"hovertemplate\": \"<b>%{hovertext}</b><br><br>y=%{y}<br>gdp_dollar=%{customdata[3]:.0f}<extra></extra>\", \"hovertext\": [\"Australia\", \"New Zealand\"], \"legendgroup\": \"Oceania\", \"marker\": {\"color\": \"#EF553B\", \"size\": [55589.549000000006, 32145.232999999997], \"sizemode\": \"area\", \"sizeref\": 23.456565, \"symbol\": \"circle\"}, \"mode\": \"markers+text\", \"name\": \"Oceania\", \"orientation\": \"v\", \"showlegend\": true, \"text\": [\"Australia\", \"New Zealand\"], \"type\": \"scatter\", \"x\": [0.9223815890000001, 1.1560693640000002], \"xaxis\": \"x\", \"y\": [8.1, 25.3], \"yaxis\": \"y\"}, {\"customdata\": [[\"Canada\", \"North America\", 0.94585, 46214.914000000004], [\"Mexico\", \"North America\", 11.67075, 9565.962], [\"United States\", \"North America\", 1.0, 47283.633]], \"hovertemplate\": \"<b>%{hovertext}</b><br><br>y=%{y}<br>gdp_dollar=%{customdata[3]:.0f}<extra></extra>\", \"hovertext\": [\"Canada\", \"Mexico\", \"United States\"], \"legendgroup\": \"North America\", \"marker\": {\"color\": \"#00cc96\", \"size\": [46214.914000000004, 9565.962, 47283.633], \"sizemode\": \"area\", \"sizeref\": 23.456565, \"symbol\": \"circle\"}, \"mode\": \"markers+text\", \"name\": \"North America\", \"orientation\": \"v\", \"showlegend\": true, \"text\": [\"Canada\", \"Mexico\", \"United States\"], \"type\": \"scatter\", \"x\": [0.94585, 11.67075, 1.0], \"xaxis\": \"x\", \"y\": [20.4, 9.4, -3.2], \"yaxis\": \"y\"}, {\"customdata\": [[\"Switzerland\", \"Europe\", 0.80615, 67245.997], [\"Czech Republic\", \"Europe\", 17.0219, 18288.284], [\"Denmark\", \"Europe\", 5.19845, 56147.143], [\"Euro area\", \"Europe\", 0.697520315, 36947.0], [\"Britain\", \"Europe\", 0.614137444, 36119.846], [\"Hungary\", \"Europe\", 188.0724, 12879.296], [\"Norway\", \"Europe\", 5.41405, 84443.634], [\"Poland\", \"Europe\", 2.7968, 12300.126], [\"Russia\", \"Europe\", 27.7525, 10437.49], [\"Sweden\", \"Europe\", 6.3352, 48874.608]], \"hovertemplate\": \"<b>%{hovertext}</b><br><br>y=%{y}<br>gdp_dollar=%{customdata[3]:.0f}<extra></extra>\", \"hovertext\": [\"Switzerland\", \"Czech Republic\", \"Denmark\", \"Euro area\", \"Britain\", \"Hungary\", \"Norway\", \"Poland\", \"Russia\", \"Sweden\"], \"legendgroup\": \"Europe\", \"marker\": {\"color\": \"#ab63fa\", \"size\": [67245.997, 18288.284, 56147.143, 36947.0, 36119.846, 12879.296, 84443.634, 12300.126, 10437.49, 48874.608], \"sizemode\": \"area\", \"sizeref\": 23.456565, \"symbol\": \"circle\"}, \"mode\": \"markers+text\", \"name\": \"Europe\", \"orientation\": \"v\", \"showlegend\": true, \"text\": [\"Switzerland\", \"Czech Republic\", \"Denmark\", \"Euro area\", \"Britain\", \"Hungary\", \"Norway\", \"Poland\", \"Russia\", \"Sweden\"], \"type\": \"scatter\", \"x\": [0.80615, 17.0219, 5.19845, 0.697520315, 0.614137444, 188.0724, 5.41405, 2.7968, 27.7525, 6.3352], \"xaxis\": \"x\", \"y\": [58.20000000000001, 40.5, 19.2, 31.900000000000002, 5.2, 52.2, 41.6, 17.4, 6.2, 78.9], \"yaxis\": \"y\"}, {\"customdata\": [[\"China\", \"Asia\", 6.445, 4382.1359999999995], [\"Hong Kong\", \"Asia\", 7.7918, 31590.681], [\"Indonesia\", \"Asia\", 8523.0, 3015.3740000000003], [\"India\", \"Asia\", 44.4, 1264.839], [\"Israel\", \"Asia\", 3.40335, 28685.616], [\"Japan\", \"Asia\", 78.365, 42820.392], [\"South Korea\", \"Asia\", 1056.2, 20590.962], [\"Malaysia\", \"Asia\", 2.9730000000000003, 8423.176], [\"Pakistan\", \"Asia\", 86.345, 1049.749], [\"Philippines\", \"Asia\", 42.41, 2007.362], [\"Saudi Arabia\", \"Asia\", 3.7502, 16995.78], [\"Singapore\", \"Asia\", 1.20705, 43116.689000000006], [\"Thailand\", \"Asia\", 29.75, 4991.525], [\"Turkey\", \"Asia\", 1.72285, 10398.685], [\"Taiwan\", \"Asia\", 28.834, 18457.752]], \"hovertemplate\": \"<b>%{hovertext}</b><br><br>y=%{y}<br>gdp_dollar=%{customdata[3]:.0f}<extra></extra>\", \"hovertext\": [\"China\", \"Hong Kong\", \"Indonesia\", \"India\", \"Israel\", \"Japan\", \"South Korea\", \"Malaysia\", \"Pakistan\", \"Philippines\", \"Saudi Arabia\", \"Singapore\", \"Thailand\", \"Turkey\", \"Taiwan\"], \"legendgroup\": \"Asia\", \"marker\": {\"color\": \"#FFA15A\", \"size\": [4382.1359999999995, 31590.681, 3015.3740000000003, 1264.839, 28685.616, 42820.392, 20590.962, 8423.176, 1049.749, 2007.362, 16995.78, 43116.689000000006, 4991.525, 10398.685, 18457.752], \"sizemode\": \"area\", \"sizeref\": 23.456565, \"symbol\": \"circle\"}, \"mode\": \"markers+text\", \"name\": \"Asia\", \"orientation\": \"v\", \"showlegend\": true, \"text\": [\"China\", \"Hong Kong\", \"Indonesia\", \"India\", \"Israel\", \"Japan\", \"South Korea\", \"Malaysia\", \"Pakistan\", \"Philippines\", \"Saudi Arabia\", \"Singapore\", \"Thailand\", \"Turkey\", \"Taiwan\"], \"type\": \"scatter\", \"x\": [6.445, 7.7918, 8523.0, 44.4, 3.40335, 78.365, 1056.2, 2.9730000000000003, 86.345, 42.41, 3.7502, 1.20705, 29.75, 1.72285, 28.834], \"xaxis\": \"x\", \"y\": [0.0, -44.6, 19.5, -11.3, 38.8, 2.1, 16.7, -1.3, 11.9, 28.4, -6.1, -9.0, 2.3, 48.3, -10.5], \"yaxis\": \"y\"}, {\"customdata\": [[\"Egypt\", \"Africa\", 5.962000000000001, 2788.829], [\"South Africa\", \"Africa\", 6.76885, 7157.8009999999995]], \"hovertemplate\": \"<b>%{hovertext}</b><br><br>y=%{y}<br>gdp_dollar=%{customdata[3]:.0f}<extra></extra>\", \"hovertext\": [\"Egypt\", \"South Africa\"], \"legendgroup\": \"Africa\", \"marker\": {\"color\": \"#19d3f3\", \"size\": [2788.829, 7157.8009999999995], \"sizemode\": \"area\", \"sizeref\": 23.456565, \"symbol\": \"circle\"}, \"mode\": \"markers+text\", \"name\": \"Africa\", \"orientation\": \"v\", \"showlegend\": true, \"text\": [\"Egypt\", \"South Africa\"], \"type\": \"scatter\", \"x\": [5.962000000000001, 6.76885], \"xaxis\": \"x\", \"y\": [7.3, 19.8], \"yaxis\": \"y\"}],\n",
       "                        {\"height\": 600, \"hoverlabel\": {\"bgcolor\": \"white\"}, \"legend\": {\"itemsizing\": \"constant\", \"title\": {\"text\": \"Continent\"}, \"tracegroupgap\": 0}, \"margin\": {\"t\": 60}, \"template\": {\"data\": {\"bar\": [{\"error_x\": {\"color\": \"#2a3f5f\"}, \"error_y\": {\"color\": \"#2a3f5f\"}, \"marker\": {\"line\": {\"color\": \"#E5ECF6\", \"width\": 0.5}}, \"type\": \"bar\"}], \"barpolar\": [{\"marker\": {\"line\": {\"color\": \"#E5ECF6\", \"width\": 0.5}}, \"type\": \"barpolar\"}], \"carpet\": [{\"aaxis\": {\"endlinecolor\": \"#2a3f5f\", \"gridcolor\": \"white\", \"linecolor\": \"white\", \"minorgridcolor\": \"white\", \"startlinecolor\": \"#2a3f5f\"}, \"baxis\": {\"endlinecolor\": \"#2a3f5f\", \"gridcolor\": \"white\", \"linecolor\": \"white\", \"minorgridcolor\": \"white\", \"startlinecolor\": \"#2a3f5f\"}, \"type\": \"carpet\"}], \"choropleth\": [{\"colorbar\": {\"outlinewidth\": 0, \"ticks\": \"\"}, \"type\": \"choropleth\"}], \"contour\": [{\"colorbar\": {\"outlinewidth\": 0, \"ticks\": \"\"}, \"colorscale\": [[0.0, \"#0d0887\"], [0.1111111111111111, \"#46039f\"], [0.2222222222222222, \"#7201a8\"], [0.3333333333333333, \"#9c179e\"], [0.4444444444444444, \"#bd3786\"], [0.5555555555555556, \"#d8576b\"], [0.6666666666666666, \"#ed7953\"], [0.7777777777777778, \"#fb9f3a\"], [0.8888888888888888, \"#fdca26\"], [1.0, \"#f0f921\"]], \"type\": \"contour\"}], \"contourcarpet\": [{\"colorbar\": {\"outlinewidth\": 0, \"ticks\": \"\"}, \"type\": \"contourcarpet\"}], \"heatmap\": [{\"colorbar\": {\"outlinewidth\": 0, \"ticks\": \"\"}, \"colorscale\": [[0.0, \"#0d0887\"], [0.1111111111111111, \"#46039f\"], [0.2222222222222222, \"#7201a8\"], [0.3333333333333333, \"#9c179e\"], [0.4444444444444444, \"#bd3786\"], [0.5555555555555556, \"#d8576b\"], [0.6666666666666666, \"#ed7953\"], [0.7777777777777778, \"#fb9f3a\"], [0.8888888888888888, \"#fdca26\"], [1.0, \"#f0f921\"]], \"type\": \"heatmap\"}], \"heatmapgl\": [{\"colorbar\": {\"outlinewidth\": 0, \"ticks\": \"\"}, \"colorscale\": [[0.0, \"#0d0887\"], [0.1111111111111111, \"#46039f\"], [0.2222222222222222, \"#7201a8\"], [0.3333333333333333, \"#9c179e\"], [0.4444444444444444, \"#bd3786\"], [0.5555555555555556, \"#d8576b\"], [0.6666666666666666, \"#ed7953\"], [0.7777777777777778, \"#fb9f3a\"], [0.8888888888888888, \"#fdca26\"], [1.0, \"#f0f921\"]], \"type\": \"heatmapgl\"}], \"histogram\": [{\"marker\": {\"colorbar\": {\"outlinewidth\": 0, \"ticks\": \"\"}}, \"type\": \"histogram\"}], \"histogram2d\": [{\"colorbar\": {\"outlinewidth\": 0, \"ticks\": \"\"}, \"colorscale\": [[0.0, \"#0d0887\"], [0.1111111111111111, \"#46039f\"], [0.2222222222222222, \"#7201a8\"], [0.3333333333333333, \"#9c179e\"], [0.4444444444444444, \"#bd3786\"], [0.5555555555555556, \"#d8576b\"], [0.6666666666666666, \"#ed7953\"], [0.7777777777777778, \"#fb9f3a\"], [0.8888888888888888, \"#fdca26\"], [1.0, \"#f0f921\"]], \"type\": \"histogram2d\"}], \"histogram2dcontour\": [{\"colorbar\": {\"outlinewidth\": 0, \"ticks\": \"\"}, \"colorscale\": [[0.0, \"#0d0887\"], [0.1111111111111111, \"#46039f\"], [0.2222222222222222, \"#7201a8\"], [0.3333333333333333, \"#9c179e\"], [0.4444444444444444, \"#bd3786\"], [0.5555555555555556, \"#d8576b\"], [0.6666666666666666, \"#ed7953\"], [0.7777777777777778, \"#fb9f3a\"], [0.8888888888888888, \"#fdca26\"], [1.0, \"#f0f921\"]], \"type\": \"histogram2dcontour\"}], \"mesh3d\": [{\"colorbar\": {\"outlinewidth\": 0, \"ticks\": \"\"}, \"type\": \"mesh3d\"}], \"parcoords\": [{\"line\": {\"colorbar\": {\"outlinewidth\": 0, \"ticks\": \"\"}}, \"type\": \"parcoords\"}], \"pie\": [{\"automargin\": true, \"type\": \"pie\"}], \"scatter\": [{\"marker\": {\"colorbar\": {\"outlinewidth\": 0, \"ticks\": \"\"}}, \"type\": \"scatter\"}], \"scatter3d\": [{\"line\": {\"colorbar\": {\"outlinewidth\": 0, \"ticks\": \"\"}}, \"marker\": {\"colorbar\": {\"outlinewidth\": 0, \"ticks\": \"\"}}, \"type\": \"scatter3d\"}], \"scattercarpet\": [{\"marker\": {\"colorbar\": {\"outlinewidth\": 0, \"ticks\": \"\"}}, \"type\": \"scattercarpet\"}], \"scattergeo\": [{\"marker\": {\"colorbar\": {\"outlinewidth\": 0, \"ticks\": \"\"}}, \"type\": \"scattergeo\"}], \"scattergl\": [{\"marker\": {\"colorbar\": {\"outlinewidth\": 0, \"ticks\": \"\"}}, \"type\": \"scattergl\"}], \"scattermapbox\": [{\"marker\": {\"colorbar\": {\"outlinewidth\": 0, \"ticks\": \"\"}}, \"type\": \"scattermapbox\"}], \"scatterpolar\": [{\"marker\": {\"colorbar\": {\"outlinewidth\": 0, \"ticks\": \"\"}}, \"type\": \"scatterpolar\"}], \"scatterpolargl\": [{\"marker\": {\"colorbar\": {\"outlinewidth\": 0, \"ticks\": \"\"}}, \"type\": \"scatterpolargl\"}], \"scatterternary\": [{\"marker\": {\"colorbar\": {\"outlinewidth\": 0, \"ticks\": \"\"}}, \"type\": \"scatterternary\"}], \"surface\": [{\"colorbar\": {\"outlinewidth\": 0, \"ticks\": \"\"}, \"colorscale\": [[0.0, \"#0d0887\"], [0.1111111111111111, \"#46039f\"], [0.2222222222222222, \"#7201a8\"], [0.3333333333333333, \"#9c179e\"], [0.4444444444444444, \"#bd3786\"], [0.5555555555555556, \"#d8576b\"], [0.6666666666666666, \"#ed7953\"], [0.7777777777777778, \"#fb9f3a\"], [0.8888888888888888, \"#fdca26\"], [1.0, \"#f0f921\"]], \"type\": \"surface\"}], \"table\": [{\"cells\": {\"fill\": {\"color\": \"#EBF0F8\"}, \"line\": {\"color\": \"white\"}}, \"header\": {\"fill\": {\"color\": \"#C8D4E3\"}, \"line\": {\"color\": \"white\"}}, \"type\": \"table\"}]}, \"layout\": {\"annotationdefaults\": {\"arrowcolor\": \"#2a3f5f\", \"arrowhead\": 0, \"arrowwidth\": 1}, \"coloraxis\": {\"colorbar\": {\"outlinewidth\": 0, \"ticks\": \"\"}}, \"colorscale\": {\"diverging\": [[0, \"#8e0152\"], [0.1, \"#c51b7d\"], [0.2, \"#de77ae\"], [0.3, \"#f1b6da\"], [0.4, \"#fde0ef\"], [0.5, \"#f7f7f7\"], [0.6, \"#e6f5d0\"], [0.7, \"#b8e186\"], [0.8, \"#7fbc41\"], [0.9, \"#4d9221\"], [1, \"#276419\"]], \"sequential\": [[0.0, \"#0d0887\"], [0.1111111111111111, \"#46039f\"], [0.2222222222222222, \"#7201a8\"], [0.3333333333333333, \"#9c179e\"], [0.4444444444444444, \"#bd3786\"], [0.5555555555555556, \"#d8576b\"], [0.6666666666666666, \"#ed7953\"], [0.7777777777777778, \"#fb9f3a\"], [0.8888888888888888, \"#fdca26\"], [1.0, \"#f0f921\"]], \"sequentialminus\": [[0.0, \"#0d0887\"], [0.1111111111111111, \"#46039f\"], [0.2222222222222222, \"#7201a8\"], [0.3333333333333333, \"#9c179e\"], [0.4444444444444444, \"#bd3786\"], [0.5555555555555556, \"#d8576b\"], [0.6666666666666666, \"#ed7953\"], [0.7777777777777778, \"#fb9f3a\"], [0.8888888888888888, \"#fdca26\"], [1.0, \"#f0f921\"]]}, \"colorway\": [\"#636efa\", \"#EF553B\", \"#00cc96\", \"#ab63fa\", \"#FFA15A\", \"#19d3f3\", \"#FF6692\", \"#B6E880\", \"#FF97FF\", \"#FECB52\"], \"font\": {\"color\": \"#2a3f5f\"}, \"geo\": {\"bgcolor\": \"white\", \"lakecolor\": \"white\", \"landcolor\": \"#E5ECF6\", \"showlakes\": true, \"showland\": true, \"subunitcolor\": \"white\"}, \"hoverlabel\": {\"align\": \"left\"}, \"hovermode\": \"closest\", \"mapbox\": {\"style\": \"light\"}, \"paper_bgcolor\": \"white\", \"plot_bgcolor\": \"#E5ECF6\", \"polar\": {\"angularaxis\": {\"gridcolor\": \"white\", \"linecolor\": \"white\", \"ticks\": \"\"}, \"bgcolor\": \"#E5ECF6\", \"radialaxis\": {\"gridcolor\": \"white\", \"linecolor\": \"white\", \"ticks\": \"\"}}, \"scene\": {\"xaxis\": {\"backgroundcolor\": \"#E5ECF6\", \"gridcolor\": \"white\", \"gridwidth\": 2, \"linecolor\": \"white\", \"showbackground\": true, \"ticks\": \"\", \"zerolinecolor\": \"white\"}, \"yaxis\": {\"backgroundcolor\": \"#E5ECF6\", \"gridcolor\": \"white\", \"gridwidth\": 2, \"linecolor\": \"white\", \"showbackground\": true, \"ticks\": \"\", \"zerolinecolor\": \"white\"}, \"zaxis\": {\"backgroundcolor\": \"#E5ECF6\", \"gridcolor\": \"white\", \"gridwidth\": 2, \"linecolor\": \"white\", \"showbackground\": true, \"ticks\": \"\", \"zerolinecolor\": \"white\"}}, \"shapedefaults\": {\"line\": {\"color\": \"#2a3f5f\"}}, \"ternary\": {\"aaxis\": {\"gridcolor\": \"white\", \"linecolor\": \"white\", \"ticks\": \"\"}, \"baxis\": {\"gridcolor\": \"white\", \"linecolor\": \"white\", \"ticks\": \"\"}, \"bgcolor\": \"#E5ECF6\", \"caxis\": {\"gridcolor\": \"white\", \"linecolor\": \"white\", \"ticks\": \"\"}}, \"title\": {\"x\": 0.05}, \"xaxis\": {\"automargin\": true, \"gridcolor\": \"white\", \"linecolor\": \"white\", \"ticks\": \"\", \"title\": {\"standoff\": 15}, \"zerolinecolor\": \"white\", \"zerolinewidth\": 2}, \"yaxis\": {\"automargin\": true, \"gridcolor\": \"white\", \"linecolor\": \"white\", \"ticks\": \"\", \"title\": {\"standoff\": 15}, \"zerolinecolor\": \"white\", \"zerolinewidth\": 2}}}, \"title\": {\"font\": {\"size\": 24}, \"text\": \"Burger price difference from CNY %, 2011\"}, \"width\": 900, \"xaxis\": {\"anchor\": \"y\", \"domain\": [0.0, 1.0], \"tickfont\": {\"size\": 16}, \"tickvals\": [1, 10, 100, 1000, 10000], \"title\": {\"font\": {\"size\": 18}, \"text\": \"Local currency units per dollar\"}, \"type\": \"log\"}, \"yaxis\": {\"anchor\": \"x\", \"domain\": [0.0, 1.0], \"tickfont\": {\"size\": 16}, \"title\": {\"font\": {\"size\": 18}, \"text\": \"Adjusted index, relative to CNY (%)\"}}},\n",
       "                        {\"responsive\": true}\n",
       "                    ).then(function(){\n",
       "                            \n",
       "var gd = document.getElementById('08fff50e-20a3-4790-988a-ef3501b77232');\n",
       "var x = new MutationObserver(function (mutations, observer) {{\n",
       "        var display = window.getComputedStyle(gd).display;\n",
       "        if (!display || display === 'none') {{\n",
       "            console.log([gd, 'removed!']);\n",
       "            Plotly.purge(gd);\n",
       "            observer.disconnect();\n",
       "        }}\n",
       "}});\n",
       "\n",
       "// Listen for the removal of the full notebook cells\n",
       "var notebookContainer = gd.closest('#notebook-container');\n",
       "if (notebookContainer) {{\n",
       "    x.observe(notebookContainer, {childList: true});\n",
       "}}\n",
       "\n",
       "// Listen for the clearing of the current output cell\n",
       "var outputEl = gd.closest('.output');\n",
       "if (outputEl) {{\n",
       "    x.observe(outputEl, {childList: true});\n",
       "}}\n",
       "\n",
       "                        })\n",
       "                };\n",
       "                });\n",
       "            </script>\n",
       "        </div>"
      ]
     },
     "metadata": {},
     "output_type": "display_data"
    }
   ],
   "source": [
    "plot_currency_imbalance_year_plotly(df,'cny',2011)"
   ]
  },
  {
   "cell_type": "code",
   "execution_count": 155,
   "metadata": {},
   "outputs": [],
   "source": [
    "countries = ['Argentina','Brazil','Britain','Japan','Hong Kong','Switzerland']"
   ]
  },
  {
   "cell_type": "code",
   "execution_count": 156,
   "metadata": {},
   "outputs": [
    {
     "data": {
      "application/vnd.plotly.v1+json": {
       "config": {
        "plotlyServerURL": "https://plot.ly"
       },
       "data": [
        {
         "customdata": [
          [
           "Argentina"
          ],
          [
           "Argentina"
          ],
          [
           "Argentina"
          ],
          [
           "Argentina"
          ],
          [
           "Argentina"
          ],
          [
           "Argentina"
          ],
          [
           "Argentina"
          ],
          [
           "Argentina"
          ],
          [
           "Argentina"
          ],
          [
           "Argentina"
          ],
          [
           "Argentina"
          ],
          [
           "Argentina"
          ],
          [
           "Argentina"
          ],
          [
           "Argentina"
          ],
          [
           "Argentina"
          ],
          [
           "Argentina"
          ],
          [
           "Argentina"
          ],
          [
           "Argentina"
          ],
          [
           "Argentina"
          ]
         ],
         "hovertemplate": "Burger price offset: %{y}%<extra></extra>",
         "legendgroup": "Argentina",
         "line": {
          "color": "#636efa",
          "dash": "solid"
         },
         "mode": "markers+lines",
         "name": "Argentina",
         "orientation": "v",
         "showlegend": true,
         "type": "scatter",
         "x": [
          "2011-07-01T00:00:00",
          "2012-01-01T00:00:00",
          "2012-07-01T00:00:00",
          "2013-01-01T00:00:00",
          "2013-07-01T00:00:00",
          "2014-01-01T00:00:00",
          "2014-07-01T00:00:00",
          "2015-01-01T00:00:00",
          "2015-07-01T00:00:00",
          "2016-01-01T00:00:00",
          "2016-07-01T00:00:00",
          "2017-01-01T00:00:00",
          "2017-07-01T00:00:00",
          "2018-01-01T00:00:00",
          "2018-07-01T00:00:00",
          "2019-01-01T00:00:00",
          "2019-07-09T00:00:00",
          "2020-01-14T00:00:00",
          "2020-07-01T00:00:00"
         ],
         "xaxis": "x",
         "y": [
          94.6,
          76.2,
          58.20000000000001,
          37.3,
          37.5,
          1.4,
          -12.5,
          6,
          5,
          -17.1,
          11.6,
          13.600000000000001,
          33.5,
          17.8,
          -19.2,
          -39.6,
          -12.5,
          -11.1,
          10.2
         ],
         "yaxis": "y"
        },
        {
         "customdata": [
          [
           "Brazil"
          ],
          [
           "Brazil"
          ],
          [
           "Brazil"
          ],
          [
           "Brazil"
          ],
          [
           "Brazil"
          ],
          [
           "Brazil"
          ],
          [
           "Brazil"
          ],
          [
           "Brazil"
          ],
          [
           "Brazil"
          ],
          [
           "Brazil"
          ],
          [
           "Brazil"
          ],
          [
           "Brazil"
          ],
          [
           "Brazil"
          ],
          [
           "Brazil"
          ],
          [
           "Brazil"
          ],
          [
           "Brazil"
          ],
          [
           "Brazil"
          ],
          [
           "Brazil"
          ],
          [
           "Brazil"
          ]
         ],
         "hovertemplate": "Burger price offset: %{y}%<extra></extra>",
         "legendgroup": "Brazil",
         "line": {
          "color": "#EF553B",
          "dash": "solid"
         },
         "mode": "markers+lines",
         "name": "Brazil",
         "orientation": "v",
         "showlegend": true,
         "type": "scatter",
         "x": [
          "2011-07-01T00:00:00",
          "2012-01-01T00:00:00",
          "2012-07-01T00:00:00",
          "2013-01-01T00:00:00",
          "2013-07-01T00:00:00",
          "2014-01-01T00:00:00",
          "2014-07-01T00:00:00",
          "2015-01-01T00:00:00",
          "2015-07-01T00:00:00",
          "2016-01-01T00:00:00",
          "2016-07-01T00:00:00",
          "2017-01-01T00:00:00",
          "2017-07-01T00:00:00",
          "2018-01-01T00:00:00",
          "2018-07-01T00:00:00",
          "2019-01-01T00:00:00",
          "2019-07-09T00:00:00",
          "2020-01-14T00:00:00",
          "2020-07-01T00:00:00"
         ],
         "xaxis": "x",
         "y": [
          140.5,
          110.3,
          83.3,
          98.1,
          82.7,
          70.6,
          99.6,
          77.6,
          49,
          18.2,
          70.1,
          79.2,
          73.4,
          59.8,
          39.8,
          46.3,
          48.3,
          55.1,
          27.399999999999995
         ],
         "yaxis": "y"
        },
        {
         "customdata": [
          [
           "Switzerland"
          ],
          [
           "Switzerland"
          ],
          [
           "Switzerland"
          ],
          [
           "Switzerland"
          ],
          [
           "Switzerland"
          ],
          [
           "Switzerland"
          ],
          [
           "Switzerland"
          ],
          [
           "Switzerland"
          ],
          [
           "Switzerland"
          ],
          [
           "Switzerland"
          ],
          [
           "Switzerland"
          ],
          [
           "Switzerland"
          ],
          [
           "Switzerland"
          ],
          [
           "Switzerland"
          ],
          [
           "Switzerland"
          ],
          [
           "Switzerland"
          ],
          [
           "Switzerland"
          ],
          [
           "Switzerland"
          ],
          [
           "Switzerland"
          ]
         ],
         "hovertemplate": "Burger price offset: %{y}%<extra></extra>",
         "legendgroup": "Switzerland",
         "line": {
          "color": "#00cc96",
          "dash": "solid"
         },
         "mode": "markers+lines",
         "name": "Switzerland",
         "orientation": "v",
         "showlegend": true,
         "type": "scatter",
         "x": [
          "2011-07-01T00:00:00",
          "2012-01-01T00:00:00",
          "2012-07-01T00:00:00",
          "2013-01-01T00:00:00",
          "2013-07-01T00:00:00",
          "2014-01-01T00:00:00",
          "2014-07-01T00:00:00",
          "2015-01-01T00:00:00",
          "2015-07-01T00:00:00",
          "2016-01-01T00:00:00",
          "2016-07-01T00:00:00",
          "2017-01-01T00:00:00",
          "2017-07-01T00:00:00",
          "2018-01-01T00:00:00",
          "2018-07-01T00:00:00",
          "2019-01-01T00:00:00",
          "2019-07-09T00:00:00",
          "2020-01-14T00:00:00",
          "2020-07-01T00:00:00"
         ],
         "xaxis": "x",
         "y": [
          58.20000000000001,
          36.3,
          36,
          29.7,
          20,
          14.3,
          22.9,
          33.9,
          24.8,
          12.9,
          18.6,
          11,
          16.8,
          7.3,
          5.1,
          5,
          11.4,
          12.2,
          11.5
         ],
         "yaxis": "y"
        },
        {
         "customdata": [
          [
           "Britain"
          ],
          [
           "Britain"
          ],
          [
           "Britain"
          ],
          [
           "Britain"
          ],
          [
           "Britain"
          ],
          [
           "Britain"
          ],
          [
           "Britain"
          ],
          [
           "Britain"
          ],
          [
           "Britain"
          ],
          [
           "Britain"
          ],
          [
           "Britain"
          ],
          [
           "Britain"
          ],
          [
           "Britain"
          ],
          [
           "Britain"
          ],
          [
           "Britain"
          ],
          [
           "Britain"
          ],
          [
           "Britain"
          ],
          [
           "Britain"
          ],
          [
           "Britain"
          ]
         ],
         "hovertemplate": "Burger price offset: %{y}%<extra></extra>",
         "legendgroup": "Britain",
         "line": {
          "color": "#ab63fa",
          "dash": "solid"
         },
         "mode": "markers+lines",
         "name": "Britain",
         "orientation": "v",
         "showlegend": true,
         "type": "scatter",
         "x": [
          "2011-07-01T00:00:00",
          "2012-01-01T00:00:00",
          "2012-07-01T00:00:00",
          "2013-01-01T00:00:00",
          "2013-07-01T00:00:00",
          "2014-01-01T00:00:00",
          "2014-07-01T00:00:00",
          "2015-01-01T00:00:00",
          "2015-07-01T00:00:00",
          "2016-01-01T00:00:00",
          "2016-07-01T00:00:00",
          "2017-01-01T00:00:00",
          "2017-07-01T00:00:00",
          "2018-01-01T00:00:00",
          "2018-07-01T00:00:00",
          "2019-01-01T00:00:00",
          "2019-07-09T00:00:00",
          "2020-01-14T00:00:00",
          "2020-07-01T00:00:00"
         ],
         "xaxis": "x",
         "y": [
          5.2,
          2.5,
          14.000000000000002,
          11,
          3.2,
          8.9,
          23.2,
          8.7,
          11.7,
          1.8000000000000003,
          -5,
          -12.3,
          -4.8,
          -3.1,
          -4.9,
          -8.7,
          -4.1,
          0.1,
          -4.6
         ],
         "yaxis": "y"
        },
        {
         "customdata": [
          [
           "Hong Kong"
          ],
          [
           "Hong Kong"
          ],
          [
           "Hong Kong"
          ],
          [
           "Hong Kong"
          ],
          [
           "Hong Kong"
          ],
          [
           "Hong Kong"
          ],
          [
           "Hong Kong"
          ],
          [
           "Hong Kong"
          ],
          [
           "Hong Kong"
          ],
          [
           "Hong Kong"
          ],
          [
           "Hong Kong"
          ],
          [
           "Hong Kong"
          ],
          [
           "Hong Kong"
          ],
          [
           "Hong Kong"
          ],
          [
           "Hong Kong"
          ],
          [
           "Hong Kong"
          ],
          [
           "Hong Kong"
          ],
          [
           "Hong Kong"
          ],
          [
           "Hong Kong"
          ]
         ],
         "hovertemplate": "Burger price offset: %{y}%<extra></extra>",
         "legendgroup": "Hong Kong",
         "line": {
          "color": "#FFA15A",
          "dash": "solid"
         },
         "mode": "markers+lines",
         "name": "Hong Kong",
         "orientation": "v",
         "showlegend": true,
         "type": "scatter",
         "x": [
          "2011-07-01T00:00:00",
          "2012-01-01T00:00:00",
          "2012-07-01T00:00:00",
          "2013-01-01T00:00:00",
          "2013-07-01T00:00:00",
          "2014-01-01T00:00:00",
          "2014-07-01T00:00:00",
          "2015-01-01T00:00:00",
          "2015-07-01T00:00:00",
          "2016-01-01T00:00:00",
          "2016-07-01T00:00:00",
          "2017-01-01T00:00:00",
          "2017-07-01T00:00:00",
          "2018-01-01T00:00:00",
          "2018-07-01T00:00:00",
          "2019-01-01T00:00:00",
          "2019-07-09T00:00:00",
          "2020-01-14T00:00:00",
          "2020-07-01T00:00:00"
         ],
         "xaxis": "x",
         "y": [
          -44.6,
          -40.1,
          -38.9,
          -40.1,
          -41.1,
          -42.6,
          -37.9,
          -38.8,
          -35.5,
          -37,
          -39.6,
          -41,
          -43,
          -44.3,
          -46.1,
          -46.2,
          -41.9,
          -43.1,
          -44.1
         ],
         "yaxis": "y"
        },
        {
         "customdata": [
          [
           "Japan"
          ],
          [
           "Japan"
          ],
          [
           "Japan"
          ],
          [
           "Japan"
          ],
          [
           "Japan"
          ],
          [
           "Japan"
          ],
          [
           "Japan"
          ],
          [
           "Japan"
          ],
          [
           "Japan"
          ],
          [
           "Japan"
          ],
          [
           "Japan"
          ],
          [
           "Japan"
          ],
          [
           "Japan"
          ],
          [
           "Japan"
          ],
          [
           "Japan"
          ],
          [
           "Japan"
          ],
          [
           "Japan"
          ],
          [
           "Japan"
          ],
          [
           "Japan"
          ]
         ],
         "hovertemplate": "Burger price offset: %{y}%<extra></extra>",
         "legendgroup": "Japan",
         "line": {
          "color": "#19d3f3",
          "dash": "solid"
         },
         "mode": "markers+lines",
         "name": "Japan",
         "orientation": "v",
         "showlegend": true,
         "type": "scatter",
         "x": [
          "2011-07-01T00:00:00",
          "2012-01-01T00:00:00",
          "2012-07-01T00:00:00",
          "2013-01-01T00:00:00",
          "2013-07-01T00:00:00",
          "2014-01-01T00:00:00",
          "2014-07-01T00:00:00",
          "2015-01-01T00:00:00",
          "2015-07-01T00:00:00",
          "2016-01-01T00:00:00",
          "2016-07-01T00:00:00",
          "2017-01-01T00:00:00",
          "2017-07-01T00:00:00",
          "2018-01-01T00:00:00",
          "2018-07-01T00:00:00",
          "2019-01-01T00:00:00",
          "2019-07-09T00:00:00",
          "2020-01-14T00:00:00",
          "2020-07-01T00:00:00"
         ],
         "xaxis": "x",
         "y": [
          2.1,
          4,
          4.8,
          -14.099999999999998,
          -23.3,
          -34.9,
          -15,
          -21.1,
          -19.7,
          -17.5,
          -6.800000000000001,
          -14.400000000000002,
          -18.6,
          -23.8,
          -20.2,
          -18.2,
          -14.899999999999999,
          -17.1,
          -16.4
         ],
         "yaxis": "y"
        }
       ],
       "layout": {
        "height": 600,
        "hoverlabel": {
         "bgcolor": "white"
        },
        "legend": {
         "title": {
          "text": "name"
         },
         "tracegroupgap": 0
        },
        "margin": {
         "t": 60
        },
        "template": {
         "data": {
          "bar": [
           {
            "error_x": {
             "color": "#2a3f5f"
            },
            "error_y": {
             "color": "#2a3f5f"
            },
            "marker": {
             "line": {
              "color": "#E5ECF6",
              "width": 0.5
             }
            },
            "type": "bar"
           }
          ],
          "barpolar": [
           {
            "marker": {
             "line": {
              "color": "#E5ECF6",
              "width": 0.5
             }
            },
            "type": "barpolar"
           }
          ],
          "carpet": [
           {
            "aaxis": {
             "endlinecolor": "#2a3f5f",
             "gridcolor": "white",
             "linecolor": "white",
             "minorgridcolor": "white",
             "startlinecolor": "#2a3f5f"
            },
            "baxis": {
             "endlinecolor": "#2a3f5f",
             "gridcolor": "white",
             "linecolor": "white",
             "minorgridcolor": "white",
             "startlinecolor": "#2a3f5f"
            },
            "type": "carpet"
           }
          ],
          "choropleth": [
           {
            "colorbar": {
             "outlinewidth": 0,
             "ticks": ""
            },
            "type": "choropleth"
           }
          ],
          "contour": [
           {
            "colorbar": {
             "outlinewidth": 0,
             "ticks": ""
            },
            "colorscale": [
             [
              0,
              "#0d0887"
             ],
             [
              0.1111111111111111,
              "#46039f"
             ],
             [
              0.2222222222222222,
              "#7201a8"
             ],
             [
              0.3333333333333333,
              "#9c179e"
             ],
             [
              0.4444444444444444,
              "#bd3786"
             ],
             [
              0.5555555555555556,
              "#d8576b"
             ],
             [
              0.6666666666666666,
              "#ed7953"
             ],
             [
              0.7777777777777778,
              "#fb9f3a"
             ],
             [
              0.8888888888888888,
              "#fdca26"
             ],
             [
              1,
              "#f0f921"
             ]
            ],
            "type": "contour"
           }
          ],
          "contourcarpet": [
           {
            "colorbar": {
             "outlinewidth": 0,
             "ticks": ""
            },
            "type": "contourcarpet"
           }
          ],
          "heatmap": [
           {
            "colorbar": {
             "outlinewidth": 0,
             "ticks": ""
            },
            "colorscale": [
             [
              0,
              "#0d0887"
             ],
             [
              0.1111111111111111,
              "#46039f"
             ],
             [
              0.2222222222222222,
              "#7201a8"
             ],
             [
              0.3333333333333333,
              "#9c179e"
             ],
             [
              0.4444444444444444,
              "#bd3786"
             ],
             [
              0.5555555555555556,
              "#d8576b"
             ],
             [
              0.6666666666666666,
              "#ed7953"
             ],
             [
              0.7777777777777778,
              "#fb9f3a"
             ],
             [
              0.8888888888888888,
              "#fdca26"
             ],
             [
              1,
              "#f0f921"
             ]
            ],
            "type": "heatmap"
           }
          ],
          "heatmapgl": [
           {
            "colorbar": {
             "outlinewidth": 0,
             "ticks": ""
            },
            "colorscale": [
             [
              0,
              "#0d0887"
             ],
             [
              0.1111111111111111,
              "#46039f"
             ],
             [
              0.2222222222222222,
              "#7201a8"
             ],
             [
              0.3333333333333333,
              "#9c179e"
             ],
             [
              0.4444444444444444,
              "#bd3786"
             ],
             [
              0.5555555555555556,
              "#d8576b"
             ],
             [
              0.6666666666666666,
              "#ed7953"
             ],
             [
              0.7777777777777778,
              "#fb9f3a"
             ],
             [
              0.8888888888888888,
              "#fdca26"
             ],
             [
              1,
              "#f0f921"
             ]
            ],
            "type": "heatmapgl"
           }
          ],
          "histogram": [
           {
            "marker": {
             "colorbar": {
              "outlinewidth": 0,
              "ticks": ""
             }
            },
            "type": "histogram"
           }
          ],
          "histogram2d": [
           {
            "colorbar": {
             "outlinewidth": 0,
             "ticks": ""
            },
            "colorscale": [
             [
              0,
              "#0d0887"
             ],
             [
              0.1111111111111111,
              "#46039f"
             ],
             [
              0.2222222222222222,
              "#7201a8"
             ],
             [
              0.3333333333333333,
              "#9c179e"
             ],
             [
              0.4444444444444444,
              "#bd3786"
             ],
             [
              0.5555555555555556,
              "#d8576b"
             ],
             [
              0.6666666666666666,
              "#ed7953"
             ],
             [
              0.7777777777777778,
              "#fb9f3a"
             ],
             [
              0.8888888888888888,
              "#fdca26"
             ],
             [
              1,
              "#f0f921"
             ]
            ],
            "type": "histogram2d"
           }
          ],
          "histogram2dcontour": [
           {
            "colorbar": {
             "outlinewidth": 0,
             "ticks": ""
            },
            "colorscale": [
             [
              0,
              "#0d0887"
             ],
             [
              0.1111111111111111,
              "#46039f"
             ],
             [
              0.2222222222222222,
              "#7201a8"
             ],
             [
              0.3333333333333333,
              "#9c179e"
             ],
             [
              0.4444444444444444,
              "#bd3786"
             ],
             [
              0.5555555555555556,
              "#d8576b"
             ],
             [
              0.6666666666666666,
              "#ed7953"
             ],
             [
              0.7777777777777778,
              "#fb9f3a"
             ],
             [
              0.8888888888888888,
              "#fdca26"
             ],
             [
              1,
              "#f0f921"
             ]
            ],
            "type": "histogram2dcontour"
           }
          ],
          "mesh3d": [
           {
            "colorbar": {
             "outlinewidth": 0,
             "ticks": ""
            },
            "type": "mesh3d"
           }
          ],
          "parcoords": [
           {
            "line": {
             "colorbar": {
              "outlinewidth": 0,
              "ticks": ""
             }
            },
            "type": "parcoords"
           }
          ],
          "pie": [
           {
            "automargin": true,
            "type": "pie"
           }
          ],
          "scatter": [
           {
            "marker": {
             "colorbar": {
              "outlinewidth": 0,
              "ticks": ""
             }
            },
            "type": "scatter"
           }
          ],
          "scatter3d": [
           {
            "line": {
             "colorbar": {
              "outlinewidth": 0,
              "ticks": ""
             }
            },
            "marker": {
             "colorbar": {
              "outlinewidth": 0,
              "ticks": ""
             }
            },
            "type": "scatter3d"
           }
          ],
          "scattercarpet": [
           {
            "marker": {
             "colorbar": {
              "outlinewidth": 0,
              "ticks": ""
             }
            },
            "type": "scattercarpet"
           }
          ],
          "scattergeo": [
           {
            "marker": {
             "colorbar": {
              "outlinewidth": 0,
              "ticks": ""
             }
            },
            "type": "scattergeo"
           }
          ],
          "scattergl": [
           {
            "marker": {
             "colorbar": {
              "outlinewidth": 0,
              "ticks": ""
             }
            },
            "type": "scattergl"
           }
          ],
          "scattermapbox": [
           {
            "marker": {
             "colorbar": {
              "outlinewidth": 0,
              "ticks": ""
             }
            },
            "type": "scattermapbox"
           }
          ],
          "scatterpolar": [
           {
            "marker": {
             "colorbar": {
              "outlinewidth": 0,
              "ticks": ""
             }
            },
            "type": "scatterpolar"
           }
          ],
          "scatterpolargl": [
           {
            "marker": {
             "colorbar": {
              "outlinewidth": 0,
              "ticks": ""
             }
            },
            "type": "scatterpolargl"
           }
          ],
          "scatterternary": [
           {
            "marker": {
             "colorbar": {
              "outlinewidth": 0,
              "ticks": ""
             }
            },
            "type": "scatterternary"
           }
          ],
          "surface": [
           {
            "colorbar": {
             "outlinewidth": 0,
             "ticks": ""
            },
            "colorscale": [
             [
              0,
              "#0d0887"
             ],
             [
              0.1111111111111111,
              "#46039f"
             ],
             [
              0.2222222222222222,
              "#7201a8"
             ],
             [
              0.3333333333333333,
              "#9c179e"
             ],
             [
              0.4444444444444444,
              "#bd3786"
             ],
             [
              0.5555555555555556,
              "#d8576b"
             ],
             [
              0.6666666666666666,
              "#ed7953"
             ],
             [
              0.7777777777777778,
              "#fb9f3a"
             ],
             [
              0.8888888888888888,
              "#fdca26"
             ],
             [
              1,
              "#f0f921"
             ]
            ],
            "type": "surface"
           }
          ],
          "table": [
           {
            "cells": {
             "fill": {
              "color": "#EBF0F8"
             },
             "line": {
              "color": "white"
             }
            },
            "header": {
             "fill": {
              "color": "#C8D4E3"
             },
             "line": {
              "color": "white"
             }
            },
            "type": "table"
           }
          ]
         },
         "layout": {
          "annotationdefaults": {
           "arrowcolor": "#2a3f5f",
           "arrowhead": 0,
           "arrowwidth": 1
          },
          "coloraxis": {
           "colorbar": {
            "outlinewidth": 0,
            "ticks": ""
           }
          },
          "colorscale": {
           "diverging": [
            [
             0,
             "#8e0152"
            ],
            [
             0.1,
             "#c51b7d"
            ],
            [
             0.2,
             "#de77ae"
            ],
            [
             0.3,
             "#f1b6da"
            ],
            [
             0.4,
             "#fde0ef"
            ],
            [
             0.5,
             "#f7f7f7"
            ],
            [
             0.6,
             "#e6f5d0"
            ],
            [
             0.7,
             "#b8e186"
            ],
            [
             0.8,
             "#7fbc41"
            ],
            [
             0.9,
             "#4d9221"
            ],
            [
             1,
             "#276419"
            ]
           ],
           "sequential": [
            [
             0,
             "#0d0887"
            ],
            [
             0.1111111111111111,
             "#46039f"
            ],
            [
             0.2222222222222222,
             "#7201a8"
            ],
            [
             0.3333333333333333,
             "#9c179e"
            ],
            [
             0.4444444444444444,
             "#bd3786"
            ],
            [
             0.5555555555555556,
             "#d8576b"
            ],
            [
             0.6666666666666666,
             "#ed7953"
            ],
            [
             0.7777777777777778,
             "#fb9f3a"
            ],
            [
             0.8888888888888888,
             "#fdca26"
            ],
            [
             1,
             "#f0f921"
            ]
           ],
           "sequentialminus": [
            [
             0,
             "#0d0887"
            ],
            [
             0.1111111111111111,
             "#46039f"
            ],
            [
             0.2222222222222222,
             "#7201a8"
            ],
            [
             0.3333333333333333,
             "#9c179e"
            ],
            [
             0.4444444444444444,
             "#bd3786"
            ],
            [
             0.5555555555555556,
             "#d8576b"
            ],
            [
             0.6666666666666666,
             "#ed7953"
            ],
            [
             0.7777777777777778,
             "#fb9f3a"
            ],
            [
             0.8888888888888888,
             "#fdca26"
            ],
            [
             1,
             "#f0f921"
            ]
           ]
          },
          "colorway": [
           "#636efa",
           "#EF553B",
           "#00cc96",
           "#ab63fa",
           "#FFA15A",
           "#19d3f3",
           "#FF6692",
           "#B6E880",
           "#FF97FF",
           "#FECB52"
          ],
          "font": {
           "color": "#2a3f5f"
          },
          "geo": {
           "bgcolor": "white",
           "lakecolor": "white",
           "landcolor": "#E5ECF6",
           "showlakes": true,
           "showland": true,
           "subunitcolor": "white"
          },
          "hoverlabel": {
           "align": "left"
          },
          "hovermode": "closest",
          "mapbox": {
           "style": "light"
          },
          "paper_bgcolor": "white",
          "plot_bgcolor": "#E5ECF6",
          "polar": {
           "angularaxis": {
            "gridcolor": "white",
            "linecolor": "white",
            "ticks": ""
           },
           "bgcolor": "#E5ECF6",
           "radialaxis": {
            "gridcolor": "white",
            "linecolor": "white",
            "ticks": ""
           }
          },
          "scene": {
           "xaxis": {
            "backgroundcolor": "#E5ECF6",
            "gridcolor": "white",
            "gridwidth": 2,
            "linecolor": "white",
            "showbackground": true,
            "ticks": "",
            "zerolinecolor": "white"
           },
           "yaxis": {
            "backgroundcolor": "#E5ECF6",
            "gridcolor": "white",
            "gridwidth": 2,
            "linecolor": "white",
            "showbackground": true,
            "ticks": "",
            "zerolinecolor": "white"
           },
           "zaxis": {
            "backgroundcolor": "#E5ECF6",
            "gridcolor": "white",
            "gridwidth": 2,
            "linecolor": "white",
            "showbackground": true,
            "ticks": "",
            "zerolinecolor": "white"
           }
          },
          "shapedefaults": {
           "line": {
            "color": "#2a3f5f"
           }
          },
          "ternary": {
           "aaxis": {
            "gridcolor": "white",
            "linecolor": "white",
            "ticks": ""
           },
           "baxis": {
            "gridcolor": "white",
            "linecolor": "white",
            "ticks": ""
           },
           "bgcolor": "#E5ECF6",
           "caxis": {
            "gridcolor": "white",
            "linecolor": "white",
            "ticks": ""
           }
          },
          "title": {
           "x": 0.05
          },
          "xaxis": {
           "automargin": true,
           "gridcolor": "white",
           "linecolor": "white",
           "ticks": "",
           "title": {
            "standoff": 15
           },
           "zerolinecolor": "white",
           "zerolinewidth": 2
          },
          "yaxis": {
           "automargin": true,
           "gridcolor": "white",
           "linecolor": "white",
           "ticks": "",
           "title": {
            "standoff": 15
           },
           "zerolinecolor": "white",
           "zerolinewidth": 2
          }
         }
        },
        "title": {
         "font": {
          "size": 24
         },
         "text": "Burger price difference from CNY %"
        },
        "width": 900,
        "xaxis": {
         "anchor": "y",
         "domain": [
          0,
          1
         ],
         "tickfont": {
          "size": 16
         },
         "title": {
          "font": {
           "size": 18
          },
          "text": "Year"
         }
        },
        "yaxis": {
         "anchor": "x",
         "domain": [
          0,
          1
         ],
         "tickfont": {
          "size": 16
         },
         "title": {
          "font": {
           "size": 18
          },
          "text": "Adjusted index, relative to CNY (%)"
         }
        }
       }
      },
      "text/html": [
       "<div>\n",
       "        \n",
       "        \n",
       "            <div id=\"e8d988b9-ce85-4a1f-bba7-dade097ff58e\" class=\"plotly-graph-div\" style=\"height:600px; width:900px;\"></div>\n",
       "            <script type=\"text/javascript\">\n",
       "                require([\"plotly\"], function(Plotly) {\n",
       "                    window.PLOTLYENV=window.PLOTLYENV || {};\n",
       "                    \n",
       "                if (document.getElementById(\"e8d988b9-ce85-4a1f-bba7-dade097ff58e\")) {\n",
       "                    Plotly.newPlot(\n",
       "                        'e8d988b9-ce85-4a1f-bba7-dade097ff58e',\n",
       "                        [{\"customdata\": [[\"Argentina\"], [\"Argentina\"], [\"Argentina\"], [\"Argentina\"], [\"Argentina\"], [\"Argentina\"], [\"Argentina\"], [\"Argentina\"], [\"Argentina\"], [\"Argentina\"], [\"Argentina\"], [\"Argentina\"], [\"Argentina\"], [\"Argentina\"], [\"Argentina\"], [\"Argentina\"], [\"Argentina\"], [\"Argentina\"], [\"Argentina\"]], \"hovertemplate\": \"Burger price offset: %{y}%<extra></extra>\", \"legendgroup\": \"Argentina\", \"line\": {\"color\": \"#636efa\", \"dash\": \"solid\"}, \"mode\": \"markers+lines\", \"name\": \"Argentina\", \"orientation\": \"v\", \"showlegend\": true, \"type\": \"scatter\", \"x\": [\"2011-07-01T00:00:00\", \"2012-01-01T00:00:00\", \"2012-07-01T00:00:00\", \"2013-01-01T00:00:00\", \"2013-07-01T00:00:00\", \"2014-01-01T00:00:00\", \"2014-07-01T00:00:00\", \"2015-01-01T00:00:00\", \"2015-07-01T00:00:00\", \"2016-01-01T00:00:00\", \"2016-07-01T00:00:00\", \"2017-01-01T00:00:00\", \"2017-07-01T00:00:00\", \"2018-01-01T00:00:00\", \"2018-07-01T00:00:00\", \"2019-01-01T00:00:00\", \"2019-07-09T00:00:00\", \"2020-01-14T00:00:00\", \"2020-07-01T00:00:00\"], \"xaxis\": \"x\", \"y\": [94.6, 76.2, 58.20000000000001, 37.3, 37.5, 1.4, -12.5, 6.0, 5.0, -17.1, 11.6, 13.600000000000001, 33.5, 17.8, -19.2, -39.6, -12.5, -11.1, 10.2], \"yaxis\": \"y\"}, {\"customdata\": [[\"Brazil\"], [\"Brazil\"], [\"Brazil\"], [\"Brazil\"], [\"Brazil\"], [\"Brazil\"], [\"Brazil\"], [\"Brazil\"], [\"Brazil\"], [\"Brazil\"], [\"Brazil\"], [\"Brazil\"], [\"Brazil\"], [\"Brazil\"], [\"Brazil\"], [\"Brazil\"], [\"Brazil\"], [\"Brazil\"], [\"Brazil\"]], \"hovertemplate\": \"Burger price offset: %{y}%<extra></extra>\", \"legendgroup\": \"Brazil\", \"line\": {\"color\": \"#EF553B\", \"dash\": \"solid\"}, \"mode\": \"markers+lines\", \"name\": \"Brazil\", \"orientation\": \"v\", \"showlegend\": true, \"type\": \"scatter\", \"x\": [\"2011-07-01T00:00:00\", \"2012-01-01T00:00:00\", \"2012-07-01T00:00:00\", \"2013-01-01T00:00:00\", \"2013-07-01T00:00:00\", \"2014-01-01T00:00:00\", \"2014-07-01T00:00:00\", \"2015-01-01T00:00:00\", \"2015-07-01T00:00:00\", \"2016-01-01T00:00:00\", \"2016-07-01T00:00:00\", \"2017-01-01T00:00:00\", \"2017-07-01T00:00:00\", \"2018-01-01T00:00:00\", \"2018-07-01T00:00:00\", \"2019-01-01T00:00:00\", \"2019-07-09T00:00:00\", \"2020-01-14T00:00:00\", \"2020-07-01T00:00:00\"], \"xaxis\": \"x\", \"y\": [140.5, 110.3, 83.3, 98.1, 82.7, 70.6, 99.6, 77.6, 49.0, 18.2, 70.1, 79.2, 73.4, 59.8, 39.8, 46.3, 48.3, 55.1, 27.399999999999995], \"yaxis\": \"y\"}, {\"customdata\": [[\"Switzerland\"], [\"Switzerland\"], [\"Switzerland\"], [\"Switzerland\"], [\"Switzerland\"], [\"Switzerland\"], [\"Switzerland\"], [\"Switzerland\"], [\"Switzerland\"], [\"Switzerland\"], [\"Switzerland\"], [\"Switzerland\"], [\"Switzerland\"], [\"Switzerland\"], [\"Switzerland\"], [\"Switzerland\"], [\"Switzerland\"], [\"Switzerland\"], [\"Switzerland\"]], \"hovertemplate\": \"Burger price offset: %{y}%<extra></extra>\", \"legendgroup\": \"Switzerland\", \"line\": {\"color\": \"#00cc96\", \"dash\": \"solid\"}, \"mode\": \"markers+lines\", \"name\": \"Switzerland\", \"orientation\": \"v\", \"showlegend\": true, \"type\": \"scatter\", \"x\": [\"2011-07-01T00:00:00\", \"2012-01-01T00:00:00\", \"2012-07-01T00:00:00\", \"2013-01-01T00:00:00\", \"2013-07-01T00:00:00\", \"2014-01-01T00:00:00\", \"2014-07-01T00:00:00\", \"2015-01-01T00:00:00\", \"2015-07-01T00:00:00\", \"2016-01-01T00:00:00\", \"2016-07-01T00:00:00\", \"2017-01-01T00:00:00\", \"2017-07-01T00:00:00\", \"2018-01-01T00:00:00\", \"2018-07-01T00:00:00\", \"2019-01-01T00:00:00\", \"2019-07-09T00:00:00\", \"2020-01-14T00:00:00\", \"2020-07-01T00:00:00\"], \"xaxis\": \"x\", \"y\": [58.20000000000001, 36.3, 36.0, 29.7, 20.0, 14.3, 22.9, 33.9, 24.8, 12.9, 18.6, 11.0, 16.8, 7.3, 5.1, 5.0, 11.4, 12.2, 11.5], \"yaxis\": \"y\"}, {\"customdata\": [[\"Britain\"], [\"Britain\"], [\"Britain\"], [\"Britain\"], [\"Britain\"], [\"Britain\"], [\"Britain\"], [\"Britain\"], [\"Britain\"], [\"Britain\"], [\"Britain\"], [\"Britain\"], [\"Britain\"], [\"Britain\"], [\"Britain\"], [\"Britain\"], [\"Britain\"], [\"Britain\"], [\"Britain\"]], \"hovertemplate\": \"Burger price offset: %{y}%<extra></extra>\", \"legendgroup\": \"Britain\", \"line\": {\"color\": \"#ab63fa\", \"dash\": \"solid\"}, \"mode\": \"markers+lines\", \"name\": \"Britain\", \"orientation\": \"v\", \"showlegend\": true, \"type\": \"scatter\", \"x\": [\"2011-07-01T00:00:00\", \"2012-01-01T00:00:00\", \"2012-07-01T00:00:00\", \"2013-01-01T00:00:00\", \"2013-07-01T00:00:00\", \"2014-01-01T00:00:00\", \"2014-07-01T00:00:00\", \"2015-01-01T00:00:00\", \"2015-07-01T00:00:00\", \"2016-01-01T00:00:00\", \"2016-07-01T00:00:00\", \"2017-01-01T00:00:00\", \"2017-07-01T00:00:00\", \"2018-01-01T00:00:00\", \"2018-07-01T00:00:00\", \"2019-01-01T00:00:00\", \"2019-07-09T00:00:00\", \"2020-01-14T00:00:00\", \"2020-07-01T00:00:00\"], \"xaxis\": \"x\", \"y\": [5.2, 2.5, 14.000000000000002, 11.0, 3.2, 8.9, 23.2, 8.7, 11.7, 1.8000000000000003, -5.0, -12.3, -4.8, -3.1, -4.9, -8.7, -4.1, 0.1, -4.6], \"yaxis\": \"y\"}, {\"customdata\": [[\"Hong Kong\"], [\"Hong Kong\"], [\"Hong Kong\"], [\"Hong Kong\"], [\"Hong Kong\"], [\"Hong Kong\"], [\"Hong Kong\"], [\"Hong Kong\"], [\"Hong Kong\"], [\"Hong Kong\"], [\"Hong Kong\"], [\"Hong Kong\"], [\"Hong Kong\"], [\"Hong Kong\"], [\"Hong Kong\"], [\"Hong Kong\"], [\"Hong Kong\"], [\"Hong Kong\"], [\"Hong Kong\"]], \"hovertemplate\": \"Burger price offset: %{y}%<extra></extra>\", \"legendgroup\": \"Hong Kong\", \"line\": {\"color\": \"#FFA15A\", \"dash\": \"solid\"}, \"mode\": \"markers+lines\", \"name\": \"Hong Kong\", \"orientation\": \"v\", \"showlegend\": true, \"type\": \"scatter\", \"x\": [\"2011-07-01T00:00:00\", \"2012-01-01T00:00:00\", \"2012-07-01T00:00:00\", \"2013-01-01T00:00:00\", \"2013-07-01T00:00:00\", \"2014-01-01T00:00:00\", \"2014-07-01T00:00:00\", \"2015-01-01T00:00:00\", \"2015-07-01T00:00:00\", \"2016-01-01T00:00:00\", \"2016-07-01T00:00:00\", \"2017-01-01T00:00:00\", \"2017-07-01T00:00:00\", \"2018-01-01T00:00:00\", \"2018-07-01T00:00:00\", \"2019-01-01T00:00:00\", \"2019-07-09T00:00:00\", \"2020-01-14T00:00:00\", \"2020-07-01T00:00:00\"], \"xaxis\": \"x\", \"y\": [-44.6, -40.1, -38.9, -40.1, -41.1, -42.6, -37.9, -38.8, -35.5, -37.0, -39.6, -41.0, -43.0, -44.3, -46.1, -46.2, -41.9, -43.1, -44.1], \"yaxis\": \"y\"}, {\"customdata\": [[\"Japan\"], [\"Japan\"], [\"Japan\"], [\"Japan\"], [\"Japan\"], [\"Japan\"], [\"Japan\"], [\"Japan\"], [\"Japan\"], [\"Japan\"], [\"Japan\"], [\"Japan\"], [\"Japan\"], [\"Japan\"], [\"Japan\"], [\"Japan\"], [\"Japan\"], [\"Japan\"], [\"Japan\"]], \"hovertemplate\": \"Burger price offset: %{y}%<extra></extra>\", \"legendgroup\": \"Japan\", \"line\": {\"color\": \"#19d3f3\", \"dash\": \"solid\"}, \"mode\": \"markers+lines\", \"name\": \"Japan\", \"orientation\": \"v\", \"showlegend\": true, \"type\": \"scatter\", \"x\": [\"2011-07-01T00:00:00\", \"2012-01-01T00:00:00\", \"2012-07-01T00:00:00\", \"2013-01-01T00:00:00\", \"2013-07-01T00:00:00\", \"2014-01-01T00:00:00\", \"2014-07-01T00:00:00\", \"2015-01-01T00:00:00\", \"2015-07-01T00:00:00\", \"2016-01-01T00:00:00\", \"2016-07-01T00:00:00\", \"2017-01-01T00:00:00\", \"2017-07-01T00:00:00\", \"2018-01-01T00:00:00\", \"2018-07-01T00:00:00\", \"2019-01-01T00:00:00\", \"2019-07-09T00:00:00\", \"2020-01-14T00:00:00\", \"2020-07-01T00:00:00\"], \"xaxis\": \"x\", \"y\": [2.1, 4.0, 4.8, -14.099999999999998, -23.3, -34.9, -15.0, -21.1, -19.7, -17.5, -6.800000000000001, -14.400000000000002, -18.6, -23.8, -20.2, -18.2, -14.899999999999999, -17.1, -16.4], \"yaxis\": \"y\"}],\n",
       "                        {\"height\": 600, \"hoverlabel\": {\"bgcolor\": \"white\"}, \"legend\": {\"title\": {\"text\": \"name\"}, \"tracegroupgap\": 0}, \"margin\": {\"t\": 60}, \"template\": {\"data\": {\"bar\": [{\"error_x\": {\"color\": \"#2a3f5f\"}, \"error_y\": {\"color\": \"#2a3f5f\"}, \"marker\": {\"line\": {\"color\": \"#E5ECF6\", \"width\": 0.5}}, \"type\": \"bar\"}], \"barpolar\": [{\"marker\": {\"line\": {\"color\": \"#E5ECF6\", \"width\": 0.5}}, \"type\": \"barpolar\"}], \"carpet\": [{\"aaxis\": {\"endlinecolor\": \"#2a3f5f\", \"gridcolor\": \"white\", \"linecolor\": \"white\", \"minorgridcolor\": \"white\", \"startlinecolor\": \"#2a3f5f\"}, \"baxis\": {\"endlinecolor\": \"#2a3f5f\", \"gridcolor\": \"white\", \"linecolor\": \"white\", \"minorgridcolor\": \"white\", \"startlinecolor\": \"#2a3f5f\"}, \"type\": \"carpet\"}], \"choropleth\": [{\"colorbar\": {\"outlinewidth\": 0, \"ticks\": \"\"}, \"type\": \"choropleth\"}], \"contour\": [{\"colorbar\": {\"outlinewidth\": 0, \"ticks\": \"\"}, \"colorscale\": [[0.0, \"#0d0887\"], [0.1111111111111111, \"#46039f\"], [0.2222222222222222, \"#7201a8\"], [0.3333333333333333, \"#9c179e\"], [0.4444444444444444, \"#bd3786\"], [0.5555555555555556, \"#d8576b\"], [0.6666666666666666, \"#ed7953\"], [0.7777777777777778, \"#fb9f3a\"], [0.8888888888888888, \"#fdca26\"], [1.0, \"#f0f921\"]], \"type\": \"contour\"}], \"contourcarpet\": [{\"colorbar\": {\"outlinewidth\": 0, \"ticks\": \"\"}, \"type\": \"contourcarpet\"}], \"heatmap\": [{\"colorbar\": {\"outlinewidth\": 0, \"ticks\": \"\"}, \"colorscale\": [[0.0, \"#0d0887\"], [0.1111111111111111, \"#46039f\"], [0.2222222222222222, \"#7201a8\"], [0.3333333333333333, \"#9c179e\"], [0.4444444444444444, \"#bd3786\"], [0.5555555555555556, \"#d8576b\"], [0.6666666666666666, \"#ed7953\"], [0.7777777777777778, \"#fb9f3a\"], [0.8888888888888888, \"#fdca26\"], [1.0, \"#f0f921\"]], \"type\": \"heatmap\"}], \"heatmapgl\": [{\"colorbar\": {\"outlinewidth\": 0, \"ticks\": \"\"}, \"colorscale\": [[0.0, \"#0d0887\"], [0.1111111111111111, \"#46039f\"], [0.2222222222222222, \"#7201a8\"], [0.3333333333333333, \"#9c179e\"], [0.4444444444444444, \"#bd3786\"], [0.5555555555555556, \"#d8576b\"], [0.6666666666666666, \"#ed7953\"], [0.7777777777777778, \"#fb9f3a\"], [0.8888888888888888, \"#fdca26\"], [1.0, \"#f0f921\"]], \"type\": \"heatmapgl\"}], \"histogram\": [{\"marker\": {\"colorbar\": {\"outlinewidth\": 0, \"ticks\": \"\"}}, \"type\": \"histogram\"}], \"histogram2d\": [{\"colorbar\": {\"outlinewidth\": 0, \"ticks\": \"\"}, \"colorscale\": [[0.0, \"#0d0887\"], [0.1111111111111111, \"#46039f\"], [0.2222222222222222, \"#7201a8\"], [0.3333333333333333, \"#9c179e\"], [0.4444444444444444, \"#bd3786\"], [0.5555555555555556, \"#d8576b\"], [0.6666666666666666, \"#ed7953\"], [0.7777777777777778, \"#fb9f3a\"], [0.8888888888888888, \"#fdca26\"], [1.0, \"#f0f921\"]], \"type\": \"histogram2d\"}], \"histogram2dcontour\": [{\"colorbar\": {\"outlinewidth\": 0, \"ticks\": \"\"}, \"colorscale\": [[0.0, \"#0d0887\"], [0.1111111111111111, \"#46039f\"], [0.2222222222222222, \"#7201a8\"], [0.3333333333333333, \"#9c179e\"], [0.4444444444444444, \"#bd3786\"], [0.5555555555555556, \"#d8576b\"], [0.6666666666666666, \"#ed7953\"], [0.7777777777777778, \"#fb9f3a\"], [0.8888888888888888, \"#fdca26\"], [1.0, \"#f0f921\"]], \"type\": \"histogram2dcontour\"}], \"mesh3d\": [{\"colorbar\": {\"outlinewidth\": 0, \"ticks\": \"\"}, \"type\": \"mesh3d\"}], \"parcoords\": [{\"line\": {\"colorbar\": {\"outlinewidth\": 0, \"ticks\": \"\"}}, \"type\": \"parcoords\"}], \"pie\": [{\"automargin\": true, \"type\": \"pie\"}], \"scatter\": [{\"marker\": {\"colorbar\": {\"outlinewidth\": 0, \"ticks\": \"\"}}, \"type\": \"scatter\"}], \"scatter3d\": [{\"line\": {\"colorbar\": {\"outlinewidth\": 0, \"ticks\": \"\"}}, \"marker\": {\"colorbar\": {\"outlinewidth\": 0, \"ticks\": \"\"}}, \"type\": \"scatter3d\"}], \"scattercarpet\": [{\"marker\": {\"colorbar\": {\"outlinewidth\": 0, \"ticks\": \"\"}}, \"type\": \"scattercarpet\"}], \"scattergeo\": [{\"marker\": {\"colorbar\": {\"outlinewidth\": 0, \"ticks\": \"\"}}, \"type\": \"scattergeo\"}], \"scattergl\": [{\"marker\": {\"colorbar\": {\"outlinewidth\": 0, \"ticks\": \"\"}}, \"type\": \"scattergl\"}], \"scattermapbox\": [{\"marker\": {\"colorbar\": {\"outlinewidth\": 0, \"ticks\": \"\"}}, \"type\": \"scattermapbox\"}], \"scatterpolar\": [{\"marker\": {\"colorbar\": {\"outlinewidth\": 0, \"ticks\": \"\"}}, \"type\": \"scatterpolar\"}], \"scatterpolargl\": [{\"marker\": {\"colorbar\": {\"outlinewidth\": 0, \"ticks\": \"\"}}, \"type\": \"scatterpolargl\"}], \"scatterternary\": [{\"marker\": {\"colorbar\": {\"outlinewidth\": 0, \"ticks\": \"\"}}, \"type\": \"scatterternary\"}], \"surface\": [{\"colorbar\": {\"outlinewidth\": 0, \"ticks\": \"\"}, \"colorscale\": [[0.0, \"#0d0887\"], [0.1111111111111111, \"#46039f\"], [0.2222222222222222, \"#7201a8\"], [0.3333333333333333, \"#9c179e\"], [0.4444444444444444, \"#bd3786\"], [0.5555555555555556, \"#d8576b\"], [0.6666666666666666, \"#ed7953\"], [0.7777777777777778, \"#fb9f3a\"], [0.8888888888888888, \"#fdca26\"], [1.0, \"#f0f921\"]], \"type\": \"surface\"}], \"table\": [{\"cells\": {\"fill\": {\"color\": \"#EBF0F8\"}, \"line\": {\"color\": \"white\"}}, \"header\": {\"fill\": {\"color\": \"#C8D4E3\"}, \"line\": {\"color\": \"white\"}}, \"type\": \"table\"}]}, \"layout\": {\"annotationdefaults\": {\"arrowcolor\": \"#2a3f5f\", \"arrowhead\": 0, \"arrowwidth\": 1}, \"coloraxis\": {\"colorbar\": {\"outlinewidth\": 0, \"ticks\": \"\"}}, \"colorscale\": {\"diverging\": [[0, \"#8e0152\"], [0.1, \"#c51b7d\"], [0.2, \"#de77ae\"], [0.3, \"#f1b6da\"], [0.4, \"#fde0ef\"], [0.5, \"#f7f7f7\"], [0.6, \"#e6f5d0\"], [0.7, \"#b8e186\"], [0.8, \"#7fbc41\"], [0.9, \"#4d9221\"], [1, \"#276419\"]], \"sequential\": [[0.0, \"#0d0887\"], [0.1111111111111111, \"#46039f\"], [0.2222222222222222, \"#7201a8\"], [0.3333333333333333, \"#9c179e\"], [0.4444444444444444, \"#bd3786\"], [0.5555555555555556, \"#d8576b\"], [0.6666666666666666, \"#ed7953\"], [0.7777777777777778, \"#fb9f3a\"], [0.8888888888888888, \"#fdca26\"], [1.0, \"#f0f921\"]], \"sequentialminus\": [[0.0, \"#0d0887\"], [0.1111111111111111, \"#46039f\"], [0.2222222222222222, \"#7201a8\"], [0.3333333333333333, \"#9c179e\"], [0.4444444444444444, \"#bd3786\"], [0.5555555555555556, \"#d8576b\"], [0.6666666666666666, \"#ed7953\"], [0.7777777777777778, \"#fb9f3a\"], [0.8888888888888888, \"#fdca26\"], [1.0, \"#f0f921\"]]}, \"colorway\": [\"#636efa\", \"#EF553B\", \"#00cc96\", \"#ab63fa\", \"#FFA15A\", \"#19d3f3\", \"#FF6692\", \"#B6E880\", \"#FF97FF\", \"#FECB52\"], \"font\": {\"color\": \"#2a3f5f\"}, \"geo\": {\"bgcolor\": \"white\", \"lakecolor\": \"white\", \"landcolor\": \"#E5ECF6\", \"showlakes\": true, \"showland\": true, \"subunitcolor\": \"white\"}, \"hoverlabel\": {\"align\": \"left\"}, \"hovermode\": \"closest\", \"mapbox\": {\"style\": \"light\"}, \"paper_bgcolor\": \"white\", \"plot_bgcolor\": \"#E5ECF6\", \"polar\": {\"angularaxis\": {\"gridcolor\": \"white\", \"linecolor\": \"white\", \"ticks\": \"\"}, \"bgcolor\": \"#E5ECF6\", \"radialaxis\": {\"gridcolor\": \"white\", \"linecolor\": \"white\", \"ticks\": \"\"}}, \"scene\": {\"xaxis\": {\"backgroundcolor\": \"#E5ECF6\", \"gridcolor\": \"white\", \"gridwidth\": 2, \"linecolor\": \"white\", \"showbackground\": true, \"ticks\": \"\", \"zerolinecolor\": \"white\"}, \"yaxis\": {\"backgroundcolor\": \"#E5ECF6\", \"gridcolor\": \"white\", \"gridwidth\": 2, \"linecolor\": \"white\", \"showbackground\": true, \"ticks\": \"\", \"zerolinecolor\": \"white\"}, \"zaxis\": {\"backgroundcolor\": \"#E5ECF6\", \"gridcolor\": \"white\", \"gridwidth\": 2, \"linecolor\": \"white\", \"showbackground\": true, \"ticks\": \"\", \"zerolinecolor\": \"white\"}}, \"shapedefaults\": {\"line\": {\"color\": \"#2a3f5f\"}}, \"ternary\": {\"aaxis\": {\"gridcolor\": \"white\", \"linecolor\": \"white\", \"ticks\": \"\"}, \"baxis\": {\"gridcolor\": \"white\", \"linecolor\": \"white\", \"ticks\": \"\"}, \"bgcolor\": \"#E5ECF6\", \"caxis\": {\"gridcolor\": \"white\", \"linecolor\": \"white\", \"ticks\": \"\"}}, \"title\": {\"x\": 0.05}, \"xaxis\": {\"automargin\": true, \"gridcolor\": \"white\", \"linecolor\": \"white\", \"ticks\": \"\", \"title\": {\"standoff\": 15}, \"zerolinecolor\": \"white\", \"zerolinewidth\": 2}, \"yaxis\": {\"automargin\": true, \"gridcolor\": \"white\", \"linecolor\": \"white\", \"ticks\": \"\", \"title\": {\"standoff\": 15}, \"zerolinecolor\": \"white\", \"zerolinewidth\": 2}}}, \"title\": {\"font\": {\"size\": 24}, \"text\": \"Burger price difference from CNY %\"}, \"width\": 900, \"xaxis\": {\"anchor\": \"y\", \"domain\": [0.0, 1.0], \"tickfont\": {\"size\": 16}, \"title\": {\"font\": {\"size\": 18}, \"text\": \"Year\"}}, \"yaxis\": {\"anchor\": \"x\", \"domain\": [0.0, 1.0], \"tickfont\": {\"size\": 16}, \"title\": {\"font\": {\"size\": 18}, \"text\": \"Adjusted index, relative to CNY (%)\"}}},\n",
       "                        {\"responsive\": true}\n",
       "                    ).then(function(){\n",
       "                            \n",
       "var gd = document.getElementById('e8d988b9-ce85-4a1f-bba7-dade097ff58e');\n",
       "var x = new MutationObserver(function (mutations, observer) {{\n",
       "        var display = window.getComputedStyle(gd).display;\n",
       "        if (!display || display === 'none') {{\n",
       "            console.log([gd, 'removed!']);\n",
       "            Plotly.purge(gd);\n",
       "            observer.disconnect();\n",
       "        }}\n",
       "}});\n",
       "\n",
       "// Listen for the removal of the full notebook cells\n",
       "var notebookContainer = gd.closest('#notebook-container');\n",
       "if (notebookContainer) {{\n",
       "    x.observe(notebookContainer, {childList: true});\n",
       "}}\n",
       "\n",
       "// Listen for the clearing of the current output cell\n",
       "var outputEl = gd.closest('.output');\n",
       "if (outputEl) {{\n",
       "    x.observe(outputEl, {childList: true});\n",
       "}}\n",
       "\n",
       "                        })\n",
       "                };\n",
       "                });\n",
       "            </script>\n",
       "        </div>"
      ]
     },
     "metadata": {},
     "output_type": "display_data"
    }
   ],
   "source": [
    "plot_currency_imbalance_country_plotly(df,'cny',countries)"
   ]
  }
 ],
 "metadata": {
  "kernelspec": {
   "display_name": "Python 3",
   "language": "python",
   "name": "python3"
  },
  "language_info": {
   "codemirror_mode": {
    "name": "ipython",
    "version": 3
   },
   "file_extension": ".py",
   "mimetype": "text/x-python",
   "name": "python",
   "nbconvert_exporter": "python",
   "pygments_lexer": "ipython3",
   "version": "3.7.6"
  }
 },
 "nbformat": 4,
 "nbformat_minor": 2
}
